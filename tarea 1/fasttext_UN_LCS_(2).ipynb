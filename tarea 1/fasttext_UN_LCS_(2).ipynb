{
  "cells": [
    {
      "cell_type": "markdown",
      "metadata": {
        "id": "declared-vacation"
      },
      "source": [
        "# Ejemplo de  vectorizaciòn de Fasttext sobre  un conjunto de textos que fueron extraidos del corpus [JRC](https://huggingface.co/datasets/large_spanish_corpus/viewer/JRC)  de Hugging Face. La idea es la de crear un archivo vectrorizado con las palabras únicas de JRC. El conjunto de sentencias debe ser limpiado."
      ],
      "id": "declared-vacation"
    },
    {
      "cell_type": "code",
      "execution_count": null,
      "metadata": {
        "colab": {
          "base_uri": "https://localhost:8080/"
        },
        "id": "aRfzElCPIGg2",
        "outputId": "4138c2a0-3ef1-4087-fbcf-995e6f20dbdf"
      },
      "outputs": [
        {
          "output_type": "stream",
          "name": "stdout",
          "text": [
            "Collecting datasets\n",
            "  Downloading datasets-2.18.0-py3-none-any.whl (510 kB)\n",
            "\u001b[2K     \u001b[90m━━━━━━━━━━━━━━━━━━━━━━━━━━━━━━━━━━━━━━━━\u001b[0m \u001b[32m510.5/510.5 kB\u001b[0m \u001b[31m4.0 MB/s\u001b[0m eta \u001b[36m0:00:00\u001b[0m\n",
            "\u001b[?25hRequirement already satisfied: filelock in /usr/local/lib/python3.10/dist-packages (from datasets) (3.13.1)\n",
            "Requirement already satisfied: numpy>=1.17 in /usr/local/lib/python3.10/dist-packages (from datasets) (1.25.2)\n",
            "Requirement already satisfied: pyarrow>=12.0.0 in /usr/local/lib/python3.10/dist-packages (from datasets) (14.0.2)\n",
            "Requirement already satisfied: pyarrow-hotfix in /usr/local/lib/python3.10/dist-packages (from datasets) (0.6)\n",
            "Collecting dill<0.3.9,>=0.3.0 (from datasets)\n",
            "  Downloading dill-0.3.8-py3-none-any.whl (116 kB)\n",
            "\u001b[2K     \u001b[90m━━━━━━━━━━━━━━━━━━━━━━━━━━━━━━━━━━━━━━━━\u001b[0m \u001b[32m116.3/116.3 kB\u001b[0m \u001b[31m15.5 MB/s\u001b[0m eta \u001b[36m0:00:00\u001b[0m\n",
            "\u001b[?25hRequirement already satisfied: pandas in /usr/local/lib/python3.10/dist-packages (from datasets) (1.5.3)\n",
            "Requirement already satisfied: requests>=2.19.0 in /usr/local/lib/python3.10/dist-packages (from datasets) (2.31.0)\n",
            "Requirement already satisfied: tqdm>=4.62.1 in /usr/local/lib/python3.10/dist-packages (from datasets) (4.66.2)\n",
            "Requirement already satisfied: xxhash in /usr/local/lib/python3.10/dist-packages (from datasets) (3.4.1)\n",
            "Collecting multiprocess (from datasets)\n",
            "  Downloading multiprocess-0.70.16-py310-none-any.whl (134 kB)\n",
            "\u001b[2K     \u001b[90m━━━━━━━━━━━━━━━━━━━━━━━━━━━━━━━━━━━━━━━━\u001b[0m \u001b[32m134.8/134.8 kB\u001b[0m \u001b[31m17.4 MB/s\u001b[0m eta \u001b[36m0:00:00\u001b[0m\n",
            "\u001b[?25hRequirement already satisfied: fsspec[http]<=2024.2.0,>=2023.1.0 in /usr/local/lib/python3.10/dist-packages (from datasets) (2023.6.0)\n",
            "Requirement already satisfied: aiohttp in /usr/local/lib/python3.10/dist-packages (from datasets) (3.9.3)\n",
            "Requirement already satisfied: huggingface-hub>=0.19.4 in /usr/local/lib/python3.10/dist-packages (from datasets) (0.20.3)\n",
            "Requirement already satisfied: packaging in /usr/local/lib/python3.10/dist-packages (from datasets) (23.2)\n",
            "Requirement already satisfied: pyyaml>=5.1 in /usr/local/lib/python3.10/dist-packages (from datasets) (6.0.1)\n",
            "Requirement already satisfied: aiosignal>=1.1.2 in /usr/local/lib/python3.10/dist-packages (from aiohttp->datasets) (1.3.1)\n",
            "Requirement already satisfied: attrs>=17.3.0 in /usr/local/lib/python3.10/dist-packages (from aiohttp->datasets) (23.2.0)\n",
            "Requirement already satisfied: frozenlist>=1.1.1 in /usr/local/lib/python3.10/dist-packages (from aiohttp->datasets) (1.4.1)\n",
            "Requirement already satisfied: multidict<7.0,>=4.5 in /usr/local/lib/python3.10/dist-packages (from aiohttp->datasets) (6.0.5)\n",
            "Requirement already satisfied: yarl<2.0,>=1.0 in /usr/local/lib/python3.10/dist-packages (from aiohttp->datasets) (1.9.4)\n",
            "Requirement already satisfied: async-timeout<5.0,>=4.0 in /usr/local/lib/python3.10/dist-packages (from aiohttp->datasets) (4.0.3)\n",
            "Requirement already satisfied: typing-extensions>=3.7.4.3 in /usr/local/lib/python3.10/dist-packages (from huggingface-hub>=0.19.4->datasets) (4.10.0)\n",
            "Requirement already satisfied: charset-normalizer<4,>=2 in /usr/local/lib/python3.10/dist-packages (from requests>=2.19.0->datasets) (3.3.2)\n",
            "Requirement already satisfied: idna<4,>=2.5 in /usr/local/lib/python3.10/dist-packages (from requests>=2.19.0->datasets) (3.6)\n",
            "Requirement already satisfied: urllib3<3,>=1.21.1 in /usr/local/lib/python3.10/dist-packages (from requests>=2.19.0->datasets) (2.0.7)\n",
            "Requirement already satisfied: certifi>=2017.4.17 in /usr/local/lib/python3.10/dist-packages (from requests>=2.19.0->datasets) (2024.2.2)\n",
            "Requirement already satisfied: python-dateutil>=2.8.1 in /usr/local/lib/python3.10/dist-packages (from pandas->datasets) (2.8.2)\n",
            "Requirement already satisfied: pytz>=2020.1 in /usr/local/lib/python3.10/dist-packages (from pandas->datasets) (2023.4)\n",
            "Requirement already satisfied: six>=1.5 in /usr/local/lib/python3.10/dist-packages (from python-dateutil>=2.8.1->pandas->datasets) (1.16.0)\n",
            "Installing collected packages: dill, multiprocess, datasets\n",
            "Successfully installed datasets-2.18.0 dill-0.3.8 multiprocess-0.70.16\n"
          ]
        }
      ],
      "source": [
        "!pip install datasets"
      ],
      "id": "aRfzElCPIGg2"
    },
    {
      "cell_type": "code",
      "execution_count": null,
      "metadata": {
        "colab": {
          "base_uri": "https://localhost:8080/"
        },
        "id": "6iKC1Q5OX338",
        "outputId": "89543b43-a0ee-4fb1-8db8-e7d27eab8239"
      },
      "outputs": [
        {
          "output_type": "stream",
          "name": "stdout",
          "text": [
            "Requirement already satisfied: nltk in /usr/local/lib/python3.10/dist-packages (3.8.1)\n",
            "Requirement already satisfied: click in /usr/local/lib/python3.10/dist-packages (from nltk) (8.1.7)\n",
            "Requirement already satisfied: joblib in /usr/local/lib/python3.10/dist-packages (from nltk) (1.3.2)\n",
            "Requirement already satisfied: regex>=2021.8.3 in /usr/local/lib/python3.10/dist-packages (from nltk) (2023.12.25)\n",
            "Requirement already satisfied: tqdm in /usr/local/lib/python3.10/dist-packages (from nltk) (4.66.2)\n"
          ]
        }
      ],
      "source": [
        "!pip install nltk"
      ],
      "id": "6iKC1Q5OX338"
    },
    {
      "cell_type": "code",
      "execution_count": null,
      "metadata": {
        "colab": {
          "base_uri": "https://localhost:8080/"
        },
        "id": "r0-73kZQYSjX",
        "outputId": "363242d9-3793-4352-ba05-90948faa1440"
      },
      "outputs": [
        {
          "output_type": "stream",
          "name": "stderr",
          "text": [
            "[nltk_data] Downloading package stopwords to /root/nltk_data...\n",
            "[nltk_data]   Unzipping corpora/stopwords.zip.\n"
          ]
        },
        {
          "output_type": "execute_result",
          "data": {
            "text/plain": [
              "True"
            ]
          },
          "metadata": {},
          "execution_count": 3
        }
      ],
      "source": [
        "import nltk\n",
        "nltk.download('stopwords')"
      ],
      "id": "r0-73kZQYSjX"
    },
    {
      "cell_type": "code",
      "execution_count": null,
      "metadata": {
        "colab": {
          "base_uri": "https://localhost:8080/",
          "height": 344,
          "referenced_widgets": [
            "a30f35cb716d42d5af34f030135e66dd",
            "fa8dea8967484e6b9ca569448ad4ff5d",
            "78387a1d28dc4e78a3064b641d91c1d3",
            "9a28182d64534cdcb85af8dd840a3bac",
            "7d5943106b774dedac9113bcbe013be3",
            "9016d6f9532245f8b4936a2ea2b4a5c4",
            "64e608b6dc06490db851ec9a893126b9",
            "a3b18d00cf7c4bbe80def048caa9adc5",
            "3ed61e164423417b920d18a2a0c7ce07",
            "613a7767ed1349c1a22f3ac6b783392d",
            "0c8fc0536cb141ba9d2de738ab981e8f",
            "e5dd2d7f36a44515b91210233a8ae84d",
            "664884bb096f47cdbc7d07801afaa692",
            "216f8429114f45459bad1f43608e3251",
            "8e70b38a2ebf469a8c769e86cecfdb6f",
            "f718b20fa09d4a99b35fbe4c191483c1",
            "d25dba7a7f3c42389b743d6a3d2eac23",
            "1b71d13b17914d399ec8c005393e2949",
            "d1f5c9e7594b41d9ae95293b6b58ef80",
            "130ab61b8a804fe4b94977e1545b9335",
            "82817b2f8fbc4dc08732005f3b6b1961",
            "6cfb584a103b4a478b4c2046b28810b1",
            "c5402e2908c5466eb1f2925d380702f9",
            "11405a1c69db4e3f82a7d83139c95772",
            "86c0062cca6f4b5e8c6a4fc31e119989",
            "4ade1e11dc8b42b49f27d9d5a93cba98",
            "71264b840f4940d0a2bc5d827ade4568",
            "1284fd6a6b5f44eeafc774813a23e552",
            "f8e51b22acc0444bb5fc73260de5e033",
            "90ece94abcb74077bf85c5f80438b317",
            "cad09266f22e4f3e8de1b9fd8f94952c",
            "b98cf835617c4acda4bc2ebc753e8cb1",
            "dc8043c35d4e42d7ac77dfd6c501c4f9",
            "d475c3f74a25434ea3eeb230b65d7628",
            "5c24e5e0ad474f2cab92113c4dc6853f",
            "66bc8424fe1e477a9ed7c0c3aecc42f5",
            "a4a1c534b6714130bc82d5737de9415a",
            "c6bd1c09540240ada6885d56e1bfbeb9",
            "6eee02e873d244a3bc1a79829f1bb8d9",
            "dd586cf8c6874488a5b3187b4b667f24",
            "827c1cb9f88b4c35b2f5da2637c38370",
            "b2e66f7b3ea34b5bb709d456347cd9f3",
            "6099404d026b404e89488db2767d17b8",
            "c0eeb0e97dd447db95698d03d71df0cf"
          ]
        },
        "id": "AyzGKLKGINXX",
        "outputId": "2c88b5bb-7fb0-4e6d-d161-d7bd402d1e36"
      },
      "outputs": [
        {
          "output_type": "stream",
          "name": "stderr",
          "text": [
            "/usr/local/lib/python3.10/dist-packages/huggingface_hub/utils/_token.py:88: UserWarning: \n",
            "The secret `HF_TOKEN` does not exist in your Colab secrets.\n",
            "To authenticate with the Hugging Face Hub, create a token in your settings tab (https://huggingface.co/settings/tokens), set it as secret in your Google Colab and restart your session.\n",
            "You will be able to reuse this secret in all of your notebooks.\n",
            "Please note that authentication is recommended but still optional to access public models or datasets.\n",
            "  warnings.warn(\n",
            "/usr/local/lib/python3.10/dist-packages/datasets/load.py:1461: FutureWarning: The repository for large_spanish_corpus contains custom code which must be executed to correctly load the dataset. You can inspect the repository content at https://hf.co/datasets/large_spanish_corpus\n",
            "You can avoid this message in future by passing the argument `trust_remote_code=True`.\n",
            "Passing `trust_remote_code=True` will be mandatory to load this dataset from the next major release of `datasets`.\n",
            "  warnings.warn(\n"
          ]
        },
        {
          "output_type": "display_data",
          "data": {
            "text/plain": [
              "Downloading builder script:   0%|          | 0.00/3.93k [00:00<?, ?B/s]"
            ],
            "application/vnd.jupyter.widget-view+json": {
              "version_major": 2,
              "version_minor": 0,
              "model_id": "a30f35cb716d42d5af34f030135e66dd"
            }
          },
          "metadata": {}
        },
        {
          "output_type": "display_data",
          "data": {
            "text/plain": [
              "Downloading readme:   0%|          | 0.00/8.26k [00:00<?, ?B/s]"
            ],
            "application/vnd.jupyter.widget-view+json": {
              "version_major": 2,
              "version_minor": 0,
              "model_id": "e5dd2d7f36a44515b91210233a8ae84d"
            }
          },
          "metadata": {}
        },
        {
          "output_type": "display_data",
          "data": {
            "text/plain": [
              "Downloading data:   0%|          | 0.00/5.79G [00:00<?, ?B/s]"
            ],
            "application/vnd.jupyter.widget-view+json": {
              "version_major": 2,
              "version_minor": 0,
              "model_id": "c5402e2908c5466eb1f2925d380702f9"
            }
          },
          "metadata": {}
        },
        {
          "output_type": "display_data",
          "data": {
            "text/plain": [
              "Generating train split:   0%|          | 0/2174141 [00:00<?, ? examples/s]"
            ],
            "application/vnd.jupyter.widget-view+json": {
              "version_major": 2,
              "version_minor": 0,
              "model_id": "d475c3f74a25434ea3eeb230b65d7628"
            }
          },
          "metadata": {}
        }
      ],
      "source": [
        "from datasets import load_dataset\n",
        "\n",
        "all_wiki = load_dataset('large_spanish_corpus', name='Europarl',split=\"train\")"
      ],
      "id": "AyzGKLKGINXX"
    },
    {
      "cell_type": "code",
      "execution_count": null,
      "metadata": {
        "colab": {
          "base_uri": "https://localhost:8080/",
          "height": 144
        },
        "id": "mgUc_XkjIR9X",
        "outputId": "493d690d-9f2b-4b36-f2a2-580152c6a642"
      },
      "outputs": [
        {
          "output_type": "error",
          "ename": "NameError",
          "evalue": "name 'all_wiki' is not defined",
          "traceback": [
            "\u001b[0;31m---------------------------------------------------------------------------\u001b[0m",
            "\u001b[0;31mNameError\u001b[0m                                 Traceback (most recent call last)",
            "\u001b[0;32m<ipython-input-6-e5ced8523c10>\u001b[0m in \u001b[0;36m<cell line: 1>\u001b[0;34m()\u001b[0m\n\u001b[0;32m----> 1\u001b[0;31m \u001b[0mall_wiki\u001b[0m\u001b[0;34m\u001b[0m\u001b[0;34m\u001b[0m\u001b[0m\n\u001b[0m",
            "\u001b[0;31mNameError\u001b[0m: name 'all_wiki' is not defined"
          ]
        }
      ],
      "source": [
        "all_wiki"
      ],
      "id": "mgUc_XkjIR9X"
    },
    {
      "cell_type": "markdown",
      "source": [
        "# Tokenización de nltk"
      ],
      "metadata": {
        "id": "TBlnWO_cJvvz"
      },
      "id": "TBlnWO_cJvvz"
    },
    {
      "cell_type": "code",
      "execution_count": null,
      "metadata": {
        "colab": {
          "base_uri": "https://localhost:8080/",
          "height": 216
        },
        "id": "7t93eAgpXjPy",
        "outputId": "6a00bcc9-dd4c-49d0-f9c1-890d8239f4c1"
      },
      "outputs": [
        {
          "output_type": "error",
          "ename": "NameError",
          "evalue": "name 'all_wiki' is not defined",
          "traceback": [
            "\u001b[0;31m---------------------------------------------------------------------------\u001b[0m",
            "\u001b[0;31mNameError\u001b[0m                                 Traceback (most recent call last)",
            "\u001b[0;32m<ipython-input-5-96bea0a65974>\u001b[0m in \u001b[0;36m<cell line: 6>\u001b[0;34m()\u001b[0m\n\u001b[1;32m      4\u001b[0m \u001b[0mdiccionario\u001b[0m \u001b[0;34m=\u001b[0m \u001b[0mdict\u001b[0m\u001b[0;34m(\u001b[0m\u001b[0;34m)\u001b[0m\u001b[0;34m\u001b[0m\u001b[0;34m\u001b[0m\u001b[0m\n\u001b[1;32m      5\u001b[0m \u001b[0;34m\u001b[0m\u001b[0m\n\u001b[0;32m----> 6\u001b[0;31m \u001b[0;32mfor\u001b[0m \u001b[0mi\u001b[0m\u001b[0;34m,\u001b[0m \u001b[0msent\u001b[0m \u001b[0;32min\u001b[0m \u001b[0menumerate\u001b[0m\u001b[0;34m(\u001b[0m \u001b[0mall_wiki\u001b[0m\u001b[0;34m[\u001b[0m\u001b[0;34m'text'\u001b[0m\u001b[0;34m]\u001b[0m\u001b[0;34m)\u001b[0m\u001b[0;34m:\u001b[0m\u001b[0;34m\u001b[0m\u001b[0;34m\u001b[0m\u001b[0m\n\u001b[0m\u001b[1;32m      7\u001b[0m     \u001b[0;32mif\u001b[0m \u001b[0mi\u001b[0m \u001b[0;34m>=\u001b[0m \u001b[0;36m0\u001b[0m\u001b[0;34m:\u001b[0m\u001b[0;34m\u001b[0m\u001b[0;34m\u001b[0m\u001b[0m\n\u001b[1;32m      8\u001b[0m         \u001b[0;32mif\u001b[0m \u001b[0mlen\u001b[0m\u001b[0;34m(\u001b[0m\u001b[0msent\u001b[0m\u001b[0;34m)\u001b[0m \u001b[0;34m>\u001b[0m \u001b[0;36m1\u001b[0m\u001b[0;34m:\u001b[0m\u001b[0;34m\u001b[0m\u001b[0;34m\u001b[0m\u001b[0m\n",
            "\u001b[0;31mNameError\u001b[0m: name 'all_wiki' is not defined"
          ]
        }
      ],
      "source": [
        "from nltk.corpus import stopwords\n",
        "\n",
        "sentences = []\n",
        "diccionario = dict()\n",
        "\n",
        "for i, sent in enumerate( all_wiki['text']):\n",
        "    if i >= 0:\n",
        "        if len(sent) > 1:\n",
        "            sente = sent.split()\n",
        "            sentences.append(sente)\n",
        "           # tokens = word_tokenize(sentences)\n",
        "\n",
        "print(sentences[1:10])\n",
        "print('No. Oraciones en train dataset: ', len(sentences))"
      ],
      "id": "7t93eAgpXjPy"
    },
    {
      "cell_type": "markdown",
      "metadata": {
        "id": "pdLBMrLL7XZ_"
      },
      "source": [
        "# Preprocesamiento de las sentencias y limpieza del texto\n",
        "1. Eliminación de los números del texto\n",
        "2. Eliminación de las palabras stopwords\n",
        "3. Eliminación de la puntuación\n",
        "4. Eliminació de otros símbolos especiales"
      ],
      "id": "pdLBMrLL7XZ_"
    },
    {
      "cell_type": "code",
      "execution_count": null,
      "metadata": {
        "id": "9BxjNfooXv8L",
        "colab": {
          "base_uri": "https://localhost:8080/",
          "height": 216
        },
        "outputId": "61243e79-f4e1-456e-fa97-15c2c3eabd93"
      },
      "outputs": [
        {
          "output_type": "error",
          "ename": "NameError",
          "evalue": "name 'sentences' is not defined",
          "traceback": [
            "\u001b[0;31m---------------------------------------------------------------------------\u001b[0m",
            "\u001b[0;31mNameError\u001b[0m                                 Traceback (most recent call last)",
            "\u001b[0;32m<ipython-input-1-876168050408>\u001b[0m in \u001b[0;36m<cell line: 3>\u001b[0;34m()\u001b[0m\n\u001b[1;32m      1\u001b[0m \u001b[0;32mfrom\u001b[0m \u001b[0mnltk\u001b[0m\u001b[0;34m.\u001b[0m\u001b[0mcorpus\u001b[0m \u001b[0;32mimport\u001b[0m \u001b[0mstopwords\u001b[0m\u001b[0;34m\u001b[0m\u001b[0;34m\u001b[0m\u001b[0m\n\u001b[1;32m      2\u001b[0m \u001b[0;32mimport\u001b[0m \u001b[0mre\u001b[0m\u001b[0;34m,\u001b[0m \u001b[0mstring\u001b[0m\u001b[0;34m\u001b[0m\u001b[0;34m\u001b[0m\u001b[0m\n\u001b[0;32m----> 3\u001b[0;31m \u001b[0msentences\u001b[0m\u001b[0;34m.\u001b[0m\u001b[0mpop\u001b[0m\u001b[0;34m(\u001b[0m\u001b[0;36m0\u001b[0m\u001b[0;34m)\u001b[0m\u001b[0;34m\u001b[0m\u001b[0;34m\u001b[0m\u001b[0m\n\u001b[0m\u001b[1;32m      4\u001b[0m \u001b[0msentencias1\u001b[0m\u001b[0;34m=\u001b[0m\u001b[0;34m[\u001b[0m\u001b[0;34m]\u001b[0m\u001b[0;34m\u001b[0m\u001b[0;34m\u001b[0m\u001b[0m\n\u001b[1;32m      5\u001b[0m \u001b[0;32mfor\u001b[0m \u001b[0mnom\u001b[0m \u001b[0;32min\u001b[0m \u001b[0msentences\u001b[0m\u001b[0;34m:\u001b[0m\u001b[0;34m\u001b[0m\u001b[0;34m\u001b[0m\u001b[0m\n",
            "\u001b[0;31mNameError\u001b[0m: name 'sentences' is not defined"
          ]
        }
      ],
      "source": [
        "from nltk.corpus import stopwords\n",
        "import re, string\n",
        "sentences.pop(0)\n",
        "sentencias1=[]\n",
        "for nom in sentences:\n",
        "    newstring = [i for i in nom if not i.isdigit()]\n",
        "    newstring = [re.sub(r'[0-9]','', w) for w in newstring]\n",
        "    stop_words = stopwords.words('spanish')\n",
        "    newstring = [w for w in newstring if not w in stop_words]\n",
        "    re_punc = re.compile('[%s]' % re.escape(string.punctuation))\n",
        "    newstring = [re_punc.sub('', w) for w in newstring]\n",
        "    newstring = [re.sub(\"\\!|\\'|\\?|\\¿|\\¡|\\«\",\"\",w) for w in newstring]\n",
        "    sentencias1.append(newstring)\n",
        "    #print(newstring)\n",
        "    #print(len(newstring))"
      ],
      "id": "9BxjNfooXv8L"
    },
    {
      "cell_type": "code",
      "execution_count": null,
      "metadata": {
        "colab": {
          "base_uri": "https://localhost:8080/",
          "height": 86,
          "referenced_widgets": [
            "7363e4d73523408186fb87393197c1aa",
            "c59bccaafc51465f8b06065a2c915905",
            "0c05147943064465a814132ba31a9592",
            "312261e6a34749c694e15fd85a4a4e5f",
            "960881979f2c40a4b67a4092aa81eece",
            "9f31f3c04c10451883c938d0573b8add",
            "28a02d3c2de04658bdf47c7ad4451832",
            "d84a4353516542fca905a263d957e1a3",
            "57935005488a4f5ca21ecbee81721a32",
            "d7470d2a3fce4eddbb3bdbcf289b6bb2",
            "92d35ffe146342128fd334c6961ac139"
          ]
        },
        "id": "5001c7bc",
        "outputId": "3452c8b6-9f2e-4261-ba2c-2721c4cbce40"
      },
      "outputs": [
        {
          "output_type": "display_data",
          "data": {
            "text/plain": [
              "  0%|          | 0/2167351 [00:00<?, ?it/s]"
            ],
            "application/vnd.jupyter.widget-view+json": {
              "version_major": 2,
              "version_minor": 0,
              "model_id": "7363e4d73523408186fb87393197c1aa"
            }
          },
          "metadata": {}
        },
        {
          "output_type": "stream",
          "name": "stdout",
          "text": [
            "[['Hay', 'alguna', 'observación'], ['Señora', 'Presidenta', 'mayor', 'brevedad', 'posible'], ['Se', 'trata', 'nada', 'acta', 'anteayer'], ['Ruego', 'comprensión', 'molestar', 'colegas', 'Sr', 'Pirker', 'mismo', 'pasamos', 'nota', 'escrita', 'votación', 'diciendo', 'aparatos', 'voto', 'funcionado', 'votación', 'conferencia', 'climática']]\n"
          ]
        }
      ],
      "source": [
        "\n",
        "from tqdm.auto import tqdm  # for our loading bar\n",
        "sentences = []\n",
        "sentences_dirty = []\n",
        "diccionario = dict()\n",
        "\n",
        "num_lines2 = len(sentencias1)\n",
        "\n",
        "for i, sent in tqdm(enumerate(sentencias1), total=num_lines2):\n",
        "    sente = []\n",
        "    for k, word in enumerate(sent):\n",
        "        sente.append(word)\n",
        "        if word not in diccionario:\n",
        "            diccionario[word] = 1\n",
        "        else:\n",
        "            diccionario[word] += 1\n",
        "\n",
        "    sentences.append(sente)\n",
        "    sentences_dirty.append(sente)\n",
        "\n",
        "print(sentences[1:5])"
      ],
      "id": "5001c7bc"
    },
    {
      "cell_type": "code",
      "execution_count": null,
      "metadata": {
        "colab": {
          "base_uri": "https://localhost:8080/"
        },
        "id": "5496c9e7",
        "outputId": "d5e3652d-fc99-458f-bd20-05e83b9b4da4"
      },
      "outputs": [
        {
          "output_type": "stream",
          "name": "stdout",
          "text": [
            "numero de oraciones presentes en el corpus: 2167351\n",
            "                 numero de palabras unicas: 189775\n",
            "[['Hay', 'alguna', 'observación'], ['Señora', 'Presidenta', 'mayor', 'brevedad', 'posible'], ['Se', 'trata', 'nada', 'acta', 'anteayer'], ['Ruego', 'comprensión', 'molestar', 'colegas', 'Sr', 'Pirker', 'mismo', 'pasamos', 'nota', 'escrita', 'votación', 'diciendo', 'aparatos', 'voto', 'funcionado', 'votación', 'conferencia', 'climática'], ['Hice', 'saber', 'circunstancia'], ['Se', 'dijo', 'quedado', 'registrada', 'así'], ['Pido', 'aclare', 'contrario', 'podré', 'solucionar', 'futuro', 'tales', 'circunstancias', 'forma', 'escrita', 'sino', 'deberé', 'manifestarme', 'hacen', 'colegas', 'forma', 'oral'], ['Sin', 'embargo', 'supone', 'gasto', 'tiempo', 'importante'], ['Nos', 'ocuparemos', 'rectificación', 'señor', 'Posselt'], ['', 'Señora', 'Presidenta', 'sino', 'cierta', 'tristeza', 'pongo', 'pie', 'mañana', 'hacer', 'comentario', 'acta', 'ayer'], ['Ayer', 'intervine', 'referirme', 'inexactitud', 'parecer', 'encontrado', 'colega', 'Sr', 'Macartney', 'relativa', 'error', 'según', 'dice', 'él', 'traducción'], ['Ayer', 'afirmaba', 'versión', 'original', 'enmienda', 'puesto', 'palabras', 'English', 'Beef»', 'sido', 'traducidas', 'Bristish', 'Beef»'], ['Este', 'lado', 'Asamblea', 'visto', 'ahora', 'texto', 'original', 'presentado', 'grupo'], ['Decía', 'claramente', 'Bristish', 'Beef»'], ['No', 'sé', 'si', 'Sr', 'Macartney', 'vegetariano', 'escondidas', 'intentando', 'prohibir', 'toda', 'carne', 'vacuno', 'británica', 'sospecho', 'caso', 'pillado'], ['La', 'verdad', 'disculpándose', 'Asamblea', 'crear', 'malentendidos', 'ser', 'ahorrativo', 'verdad'], ['Señora', 'Presidenta', 'tampoco', 'produce', 'ningún', 'placer', 'tener', 'responder', 'tipo', 'comentario'], ['No', 'vegetariano', 'escondidas', 'lingüista'], ['Tengo', 'además', 'cuidado', 'firmo', 'enmiendas', 'sé', 'firmando'], ['Los', 'servicios', 'sesión', 'pueden', 'confirmar', 'enmienda', 'original', 'depositada', 'grupo', 'utilizaba', 'enunciado', 'viande', 'anglaise»'], ['De', 'pasara', 'posteriormente', 'responsable', 'confirmado', 'Sr', 'David', 'Martin', 'entonces', 'presidente', 'sala'], ['Los', 'servicios', 'sesión', 'pueden', 'confirmar'], ['Espero', 'podamos', 'poner', 'fin', 'asunto', 'bastante', 'absurdo'], ['Señor', 'Macartney', 'procediendo', 'aprobación', 'Acta'], ['Me', 'dirijo', 'Sr', 'Miller'], ['Nos', 'ocuparemos', 'todas', 'declaraciones', 'consten', 'correctamente'], ['El', 'Acta', 'queda', 'aprobada'], ['Votaciones'], ['Señora', 'Presidenta', 'sólo', 'quiero', 'hacer', 'pequeña', 'aclaración', 'relativa', 'informe'], ['Aquellos', 'presentes', 'ayer', 'tarde', 'debate', 'oído', 'Comisión', 'preparada', 'aceptar', 'forma', 'enmiendas', 'relativas', 'Tratado', 'Amsterdam', 'adoptadas', 'ahora', 'democristianos'], ['Quiero', 'expresar', 'claramente', 'grupo', 'votado', 'favor', 'enmiendas', 'tratado', 'aun', 'sido', 'ratificado', 'aun', 'podemos', 'ocuparnos', 'él'], ['Es', 'pena', 'sido', 'incluidas', 'informe', 'mayoría', 'así', 'querido'], ['Pero', 'someter'], ['Es', 'sencillamente', 'así'], ['Sin', 'embargo', 'quisiera', 'destacar', 'nuevo', 'grupo', 'puede', 'aceptar', 'ocupemos', 'todavía', 'entrado', 'vigor'], ['Señora', 'Presidenta', 'oído', 'nombrar', 'personas', 'van', 'dar', 'explicaciones', 'voto', 'encuentran', 'presentes'], ['Puede', 'usted', 'comprobar', 'si', 'presentes', 'todas', 'personas', 'cuyo', 'nombre', 'leído', 'den', 'explicaciones', 'voto'], ['Si', 'no', 'explicación', 'voto'], ['Tiene', 'usted', 'razón'], ['El', 'Sr', 'Vanhecke', 'presente', 'acaba', 'comunicar', 'haría', 'explicación', 'voto', 'escrito'], ['El', 'Sr', 'Lindqvist', 'comunicado', 'haría', 'escrito'], ['El', 'Sr', 'Holm', 'Sr', 'Wibe', 'presentes'], ['Todos', 'presentes'], ['Magnífico'], ['Les', 'felicito', 'presentan', 'explicación', 'voto', 'escrito'], ['Creo', 'próxima', 'vez', 'efectuarán', 'oralmente', 'vean', 'presentes'], ['Está', 'bien', 'problemas', 'refugio', 'resuelvan', 'globalmente', 'refugiados', 'puedan', 'ser', 'distribuidos', 'países'], ['Temo', 'política', 'común', 'refugio', 'asilo', 'visados', 'UE', 'pueda', 'conducir', 'endurecimiento', 'política', 'refugiados', 'altos', 'muros', 'hacia', 'entorno'], ['Tengo', 'muchísimo', 'miedo', 'exigencias', 'ponen', 'propuesta', 'enmienda', 'informe', 'decir', 'Estados', 'miembros', 'vayan', 'instituyendo', 'normas', 'uniformes', 'armonizadas', 'materias', 'asilo', 'inmigración', 'traspaso', 'límites', 'externos', 'Estados', 'miembros', 'impliquen', 'Unión', 'Europea', 'construya', 'muros', 'aún', 'altos', 'entorno', 'hagan', 'aún', 'difícil', 'refugiados', 'políticos', 'conseguir', 'asilo', 'países'], ['No', 'acuerdo', 'exigencia', 'UE', 'través', 'peculiaridades', 'supra', 'nacionales', 'vaya', 'encargarse', 'materias', 'asilo', 'inmigración'], ['Estimo', 'ésta', 'materia', 'presta', 'mejor', 'ser', 'decidida', 'plano', 'nacional'], ['Por', 'contrario', 'obviamente', 'apoyo', 'cooperación', 'materias'], ['El', 'objetivo', 'programa', 'promover', 'cooperación', 'autoridades', 'responsables', 'Estados', 'miembros', 'digno', 'encomio'], ['También', 'favorable', 'amplíe', 'cooperación', 'países', 'Europa', 'Central', 'Este'], ['Vehículos', 'ruedas'], ['De', 'conformidad', 'orden', 'día', 'procede', 'debate', 'informe', 'A', 'Sr', 'Kittelmann', 'nombre', 'Comisión', 'Relaciones', 'Económicas', 'Exteriores', 'relativo', 'proyecto', 'decisión', 'Consejo', 'adhesión', 'Comunidad', 'Europea', 'Acuerdo', 'Comisión', 'Económica', 'Europa', 'Naciones', 'Unidas', 'adopción', 'prescripciones', 'técnicas', 'uniformes', 'vehículos', 'ruedas', 'equipos', 'piezas', 'puedan', 'montarse', 'utilizarse', 'éstos', 'condiciones', 'reconocimiento', 'recíproco', 'homologaciones', 'concedidas', 'conforme', 'dichas', 'prescripciones', '', 'Acuerdo', 'Revisado', '»', '', '', 'CAVC'], ['Señora', 'Presidenta', 'distinguidos', 'colegas', 'acuerdo', 'nombre', 'largo', 'trata', 'acuerdo', 'modificado', 'importante', 'esperamos', 'poder', 'aprobar', 'día', 'hoy'], ['La', 'Comisión', 'Asuntos', 'Exteriores', 'Seguridad', 'Política', 'Defensa', 'aconsejó', 'aceptar', 'recomendación'], ['Ya', 'adoptamos', 'informe', 'noviembre', 'año', 'pasado'], ['A', 'principios', 'enero', 'Consejo', 'comunicó', 'embargo', 'deseaba', 'retirar', 'petición', 'voto', 'reelaborar', 'propuesta', 'Comisión', 'presentarla', 'nuevo'], ['El', 'informe', 'actualmente', 'disponible', 'versión', 'mejorada'], ['Sobre', 'trata', 'acuerdo', 'Comisión', 'Económica', 'Europa', 'Naciones', 'Unidas'], ['En', 'año', 'representados', 'Comisión', 'Económica', 'Europa', 'Naciones', 'Unidas', 'concluyeron', 'acuerdo', 'relativo', 'adopción', 'unas', 'condiciones', 'uniformes', 'homologación', 'piezas', 'automóviles', 'accesorios'], ['Se', 'colegas', 'Sres'], ['Mombaur', 'Malangré', 'celebran', 'especialmente'], ['Dicho', 'forma', 'precisa', 'trata', 'reconocimiento', 'recíproco', 'partes', 'contratantes', 'tipos', 'permisos', 'automóviles', 'diseñados', 'conforme', 'normas'], ['La', 'propuesta', 'Comisión', 'prevé', 'ahora', 'Comunidad', 'Europea', 'convierta', 'junto', 'Estados', 'Miembros', 'parte', 'acuerdo', 'Naciones', 'Unidas'], ['Encuentro', 'circunstancia', 'especialmente', 'afortunada', 'significa', 'Unión', 'Europea', 'participa', 'cada', 'vez', 'mayor', 'medida', 'acuerdos', 'internacionales', 'actúa', 'persona', 'jurídica', 'pleno', 'derecho'], ['No', 'obstante', 'cuestiones', 'jurídicas', 'Comunidad', 'Europea', 'Unión', 'Europea', 'debe', 'ser', 'parte', 'acuerdo', 'UE', 'diferencia', 'Comunidad', 'carece', 'personalidad', 'jurídica', 'internacional'], ['El', 'significado', 'económico', 'acuerdo', 'índole', 'industria', 'automóvil', 'claro'], ['Desde', 'conclusión', 'acuerdo', 'aprobado', 'reglamentaciones', 'específicas', 'comprenden', 'accesorios', 'piezas', 'automóviles'], ['Una', 'renegociación', 'hizo', 'necesaria', 'motivos', 'consecución', 'mercado', 'interior', 'UE'], ['Asimismo', 'hizo', 'evidente', 'cuenta', 'rápido', 'desarrollo', 'técnico', 'industria', 'automovilística', 'creciente', 'interdependencia', 'comercial', 'necesidad', 'instrumento', 'regulador', 'reconocido', 'internacionalmente'], ['La', 'propuesta', 'actual', 'diferencia', 'primera', 'tres', 'puntos'], ['En', 'primer', 'lugar', 'papel', 'van', 'seguir', 'desarrollando', 'Estados', 'miembros', 'tras', 'adhesión', 'acuerdo', 'CE', 'explicado', 'detalladamente'], ['En', 'segundo', 'lugar', 'base', 'jurídica', 'adicional', 'adhesión', 'Comunidad', 'Europea', 'acuerdo', 'modificado', 'añade', 'artículo', 'a'], ['En', 'tercer', 'lugar', 'proposición', 'decisión', 'añade', 'anexo', 'regula', 'cuestiones', 'concretas', 'participación', 'Estados', 'miembros', 'Comunidad', 'acuerdo'], ['Esta', 'propuesta', 'hace', 'votación', 'aun', 'fácil', 'hace', 'año', 'anexo', 'contiene', 'petición', 'que', 'junto', 'Comisión', 'Asuntos', 'Económicos', 'Monetarios', 'Política', 'Industrial', 'hicimos', 'Parlamento', 'informado', 'puntualmente', 'antelación', 'presentación', 'formal', 'propuestas', 'aprobación', 'nueva', 'regulación'], ['Con', 'ello', 'Parlamento', 'podrá', 'fase', 'temprana', 'realizar', 'cualesquiera', 'peticiones'], ['El', 'comisario', 'Bangemann', 'accedió', 'tal', 'procedimiento', 'información', 'garantizado', 'escrito'], ['Además', 'Sr', 'Bangemann', 'cumple', 'promete'], ['Esta', 'concesión', 'convierte', 'parte', 'procedimiento', 'jurídico', 'revaloriza', 'ello', 'calidad'], ['En', 'relación', 'recepción', 'regulación', 'derecho', 'comunitario', 'debe', 'ser', 'empleado', 'procedimiento', 'codecisión', 'voto', 'favorable', 'Parlamento', 'debe', 'ser', 'cuenta'], ['En', 'caso', 'derecho', 'influencia', 'queda', 'protegido', 'especialmente', 'si', 'respeta', 'recién', 'explicado', 'procedimiento', 'información'], ['El', 'refuerzo', 'acuerdo', 'través', 'procedimiento', 'decisión', 'riguroso', 'participación', 'CE', 'parte', 'va', 'elevar', 'considerablemente', 'importancia', 'internacional'], ['Otros', 'importantes', 'productores', 'automóviles', 'acabarán', 'después', 'adherirse', 'acuerdo', 'ello', 'mejorarán', 'posibilidades', 'distribución', 'economía', 'europea', 'mercado', 'mundial'], ['Vamos', 'votar', 'acuerdo', 'necesario', 'provechoso', 'Europa'], ['Señora', 'Presidenta', 'agradecido', 'ponente', 'darnos', 'explicación', 'técnica', 'detrás', 'informe'], ['La', 'recomendación', 'parte', 'cosa', 'reconocida', 'hacía', 'falta', 'conjunto', 'normas', 'internacionales', 'extensamente', 'reconocidas', 'campo', 'homologación', 'vehículos'], ['Creemos', 'si', 'objetivo', 'universalizar', 'sólo', 'mercado', 'tipo', 'mercancías', 'deberíamos', 'fomentar', 'trabajo', 'comparta', 'nivel', 'internacional', 'beneficio', 'economías', 'pobres', 'mismos'], ['Pero', 'queremos', 'universalización', 'derechos', 'humanos', 'valores', 'sociales', 'respeto', 'medio', 'ambiente'], ['Por', 'tanto', 'interesa', 'mantener', 'proceso', 'funcionamiento', 'medio', 'unas', 'estructuras', 'jurídicas', 'internacionalmente', 'vinculantes', 'fin', 'desarrollar', 'confianza', 'fiabilidad', 'transparencia', 'factores', 'económicos', 'respeto', 'mutuo', 'mundo'], ['De', 'ahí', 'apoyemos', 'informe'], ['He', 'decir', 'después', 'reservas', 'iniciales', 'ponente', 'convencido', 'Parlamento', 'lugar', 'asegurado', 'plan', 'agradecido', 'trabajo', 'hecho', 'Sr', 'Kittelman', 'ello'], ['Sólo', 'espero', 'confianza', 'dé', 'frutos', 'meses', 'años', 'venideros'], ['Señora', 'Presidenta', 'Acuerdo', 'remonta', 'año', '', 'podría', 'parecer', 'obsoleto', 'embargo', 'gracias', 'modificaciones', 'ponente', 'Comisión', 'aportado', 'mismo', 'duda', 'podemos', 'aprobarlo', 'reconocer', 'mismo', 'sigue', 'siendo', 'actual'], ['La', 'prueba', 'ofrece', 'aplicación', 'largo', 'tiempo', 'adoptado', 'cien', 'reglamentos', 'específicos', 'nunca', 'surgido', 'grandes', 'problemas'], ['Deseo', 'subrayar', 'importancia', 'reviste', 'Acuerdo', 'modificado', 'industria', 'automóvil', 'europea', 'empleo'], ['En', 'competencia', 'global', 'fabricantes', 'automóviles', 'particular', 'fabricantes', 'europeos', 'americanos', 'vistas', 'penetración', 'comercial', 'nuevos', 'mercados', 'emergentes', 'adopción', 'normas', 'técnicas', 'uniformes', 'comunes', 'vehículos', 'hecho', 'necesaria', 'permite', 'definir', 'parámetros', 'cara', 'competencia', 'buena', 'equilibrada', 'sabemos', 'asimismo', 'necesaria', 'disciplina', 'campos'], ['Hay', 'tener', 'cuenta', 'asimismo', 'adhesión', 'Unión', 'Europea', 'Acuerdo', 'modificado', 'podría', 'inducir', 'países', 'ejemplo', 'Japón', 'Corea', 'China', 'Sudáfrica', 'India', 'países', 'emergentes', 'competidores', 'futuro', 'declararon', 'interés', 'incluso', 'intención', 'adherir', 'dicho', 'acuerdo', 'dar', 'paso', 'definitivo', 'darlo', 'dirección', 'preconizamos'], ['Por', 'último', 'perspectiva', 'adhesión', 'Unión', 'Europea', 'Acuerdo', 'modificado', 'vital', 'importancia', 'industria', 'automóvil', 'europea', 'constituido', 'serie', 'jointventures', 'países', 'emergentes'], ['La', 'adhesión', 'efecto', 'consentirá', 'rápido', 'proceso', 'adopción', 'toda', 'materia', 'permitirá', 'industria', 'automóvil', 'europea', 'ceder', 'paso', 'sectores', 'invasión', 'industria', 'americana'], ['Señora', 'Presidenta', 'estimado', 'colega', 'imagínese', 'usted', 'fabricante', 'automóviles', 'esfuerza', 'aprueben', 'nuevo', 'modelo', 'automóvil'], ['Sigamos', 'suponiendo', 'trata', 'punto', 'vista', 'modelo', 'comercial', 'pesar', 'quizá', 'pueda', 'conseguir', 'pasar', 'aspectos', 'seguridad', 'test', 'alce'], ['La', 'adhesión', 'CE', 'acuerdo', 'CEPE', 'usted', 'regalo', 'cielo'], ['Cito', 'posición', 'Comisión', 'Política', 'Industrial', 'a', 'través', 'adhesión', 'UE', 'reduciría', 'considerablemente', 'ámbito', 'procedimiento', 'codecisión', 'aspectos', 'sensibles', 'legislación', 'seguridad', 'medio', 'ambiente»'], ['Y', 'continúa', 'la', 'UE', 'cedería', 'competencia', 'legislativa', 'institución', 'actúa', 'base', 'jurídica', 'débil»'], ['Cito', 'ahora', 'ponente', 'Comisión', 'Asuntos', 'Jurídicos', 'el', 'tratado', 'CE', 'establece', 'nivel', 'protección', 'consumidores', 'medio', 'ambiente', 'alto', 'posible', 'mientras', 'acuerdo', 'CEPE', 'carece', 'previsiones', 'tipo»'], ['Sería', 'mal', 'chiste', 'pensar', 'recta', 'final', 'procedimiento', 'PE', 'pudiera', 'evitar', 'votación', 'decir', 'simple', 'si', 'no', 'autorización', 'circulación', 'base', 'estándar', 'menos', 'exigente', 'faltaría', 'tener', 'posición', 'sustancial', 'resorte', 'fundamental', 'concreto', 'codecisión'], ['Para', 'dejar', 'tener', 'cuenta', 'opinión', 'diferentes', 'comisiones', 'Comisión', 'obligado', 'informar', 'confiadamente', 'PE'], ['Es', 'gesto', 'amable', 'decirlo'], ['Pero', 'por', 'aparece', 'conflicto', 'precisamente', 'relación', 'medio', 'ambiente', 'seguridad'], ['La', 'adhesión', 'CE', 'responde', 'lógica', 'acceder', 'rápida', 'fácilmente', 'mercados', 'obligar', 'países', 'adherirse', 'CEPE'], ['Por', 'encarecer', 'entonces', 'precio', 'entrada'], ['Y', 'propongo', 'mordamos', 'primero', 'manzana', 'podrida', 'luego', 'esperar', 'tiempos', 'mejores'], ['En', 'lugar', 'esto', 'deberíamos', 'exigir', 'autoridades', 'competentes', 'que', 'principio', 'acometan', 'reforma', 'procedimiento', 'CEPE', 'relativa', 'ecológico', 'social', 'técnico', 'materia', 'seguridad', 'después', 'podremos', 'hablar', 'adhesión', 'ECE'], ['Seguro', 'tal', 'caso', 'opondremos', 'ello'], ['Espero', 'ahora', 'vengan', 'test', 'elefante'], ['Señora', 'Presidenta', 'quiero', 'decir', 'procedimiento', 'Comisión', 'Relaciones', 'Económicas', 'Exteriores', 'pasado', 'octubre', 'votó', 'precipitadamente', 'informe'], ['Que', 'abstuvieran', 'seis', 'catorce', 'miembros', 'presentes', 'muestra', 'gran', 'descontento', 'forma', 'proceder'], ['Un', 'día', 'laborable', 'reunión', 'añadió', 'informe', 'agenda', 'agenda', 'cambiada', 'llegó', 'miembros', 'día', 'reunión'], ['Sólo', 'reunión', 'misma', 'disponía', 'informe'], ['No', 'posibles', 'debate', 'fondo', 'valoración', 'sopesada'], ['Esta', 'forma', 'proceder', 'repetir'], ['Todo', 'quita', 'estima', 'trabajo', 'ponente'], ['Estamos', 'acuerdo', 'diversos', 'motivos', 'importante', 'CE', 'adhiera', 'acuerdo', 'ECE'], ['El', 'comercio', 'internacional', 'creciente', 'aumento', 'competitividad', 'industria', 'automovilística', 'japonesa', 'coreana', 'demandan', 'oportunidad', 'justa', 'industria', 'europea'], ['Se', 'puede', 'fomentar', 'exportación', 'países', 'CE', 'eliminando', 'obstáculos', 'técnicos'], ['La', 'adhesión', 'mundial', 'acuerdo', 'deseable', 'Estados', 'Unidos', 'deberían', 'participar'], ['A', 'pesar', 'opción', 'EEUU', 'selfcertification»', 'espero', 'Comisión', 'Europea', 'siga', 'esforzándose', 'adhesión', 'país', 'países'], ['Ahora', 'completado', 'mercado', 'interno', 'aún', 'importante', 'armonicen', 'regulación', 'comunitaria', 'reglamentos', 'ECE'], ['Queremos', 'pedir', 'CE', 'esfuerce', 'incorporar', 'buen', 'nivel', 'comunitario', 'protección', 'reglamento', 'ECE', 'máximo', 'posible'], ['Nos', 'alegramos', 'riesgo', 'parezca', 'alejado', 'adhesión', 'ECE', 'bajara', 'nivel', 'protección'], ['Ahora', 'Consejo', 'incorporado', 'artículo', 'A', 'fundamentos', 'jurídicos', 'confiamos', 'garanticen', 'sanidad', 'pública', 'seguridad', 'protección', 'medio', 'ambiente'], ['La', 'CE', 'puede', 'encargarse', 'ello', 'provisionalmente', 'mayoría', 'absoluta', 'toma', 'decisiones', 'ECE', 'después', 'progresiva', 'ampliación', 'mantendrá', 'minoría', 'bloqueo'], ['Esperamos', 'adhesión', 'conduzca', 'equilibre', 'representación', 'intereses'], ['Tanto', 'intereses', 'hábitat', 'consumidores', 'seguridad', 'vial', 'fabricantes', 'coches', 'pueden', 'tomarse', 'cuenta', 'Estados', 'miembros'], ['El', 'planteamiento', 'comunitario', 'ventaja', 'intereses', 'industrias', 'automovilísticas', 'nacionales', 'conduzcan', 'unilateralmente', 'rebaja', 'nivel', 'protección'], ['En', 'respecta', 'aspectos', 'internos', 'adhesión', 'posición', 'Parlamento', 'Europeo', 'interesante'], ['Mientras', 'Parlamento', 'Europeo', 'actualmente', 'todavía', 'derecho', 'codecisión', 'cuanto', 'normativa', 'equipamiento', 'aprobación', 'vehículos', 'ruedas', 'sustituirá', 'después', 'adhesión', 'procedimiento', 'aprobación', 'nuevos', 'reglamentos', 'ECE'], ['A', 'modo', 'ver', 'control', 'parlamentario', 'queda', 'garantizado', 'ello'], ['Ahora', 'prometido', 'además', 'mantendrá', 'Parlamento', 'Europeo', 'medio', 'procedimiento', 'modusvivendi', 'compartimos', 'conclusión', 'ponente', 'después', 'adhesión', 'acuerdo', 'ECE', 'implicación', 'Parlamento', 'Europeo', 'garantizada'], ['Estoy', 'menos', 'tranquilo', 'respecto', 'implicación', 'Estados', 'miembros'], ['Compartimos', 'crítica', 'Consejo', 'pretensión', 'Comisión', 'Europea', 'ser', 'portavoz', 'todas', 'fases', 'negociaciones', 'ECE'], ['Es', 'cierto', 'según', 'decisión', 'Consejo', 'Comisión', 'Europea', 'actuará', 'nombre', 'CE', 'mientras', 'Estados', 'miembros', 'pueden', 'expresarse', 'grupos', 'expertos'], ['La', 'adhesión', 'acuerdo', 'pone', 'relieve', 'competencias', 'CE', 'pueden', 'llegar', 'lejos', 'ámbito', 'internacional'], ['El', 'ponente', 'sometido', 'razón', 'principio', 'subsidiariedad', 'peso', 'globalización', 'creciente', 'comercio', 'inversiones'], ['Estamos', 'acuerdo', 'caso', 'actuación', 'conjunto', 'Estados', 'miembros', 'ámbito', 'ECE', 'claro', 'valor', 'añadido'], ['Señora', 'Presidenta', 'Comisión', 'desea', 'felicitar', 'ponente', 'Sr', 'Kittellmann', 'excelente', 'informe', 'propuesta', 'decisión'], ['El', 'informe', 'hace', 'análisis', 'detallado', 'contenido', 'procedimientos', 'internos', 'seguir', 'partir', 'momento', 'Comunidad', 'Europea', 'convierte', 'parte', 'contratante', 'Acuerdo'], ['Desde', 'punto', 'vista', 'político', 'económico', 'quiero', 'subrayar', 'simplemente', 'creciente', 'importancia', 'potenciación', 'armonización', 'internacional', 'sólo', 'refiere', 'industria', 'sino', 'atañe', 'opinión', 'consumidores'], ['Considero', 'que', 'óptica', 'colegas', 'expresado', 'preocupaciones', 'Pleno', 'encontrarán', 'instrumento', 'garantía', 'adicional', 'creo', 'sólo', 'armonización', 'multilateral', 'puede', 'asegurar', 'elemento', 'garantía', 'ulterior', 'mercado', 'global', 'tan', 'acusado'], ['El', 'punto', 'Comisión', 'quiere', 'precisar', 'abordado', 'detalle', 'ponente', 'Sr', 'Kittelmann', 'afecta', 'procedimientos', 'aspecto', 'planteado', 'ciertas', 'dudas', 'Pleno'], ['Para', 'ser', 'concretos', 'Comisión', 'desea', 'reiterar', 'que', 'votar', 'favor', 'aprobación', 'propuesta', 'reglamento', 'propuesta', 'enmienda', 'Comunidad', 'deberá', 'solicitar', 'dictamen', 'conforme', 'Parlamento', 'Europeo', 'caso', 'nuevos', 'reglamentos', 'reglamentos', 'existentes', 'adapten', 'progreso', 'técnico', 'así', 'someter', 'tiempo', 'propuestas', 'enmienda', 'Parlamento', 'Europeo', 'objeto', 'seguir', 'procedimientos', 'vigor', 'nivel', 'comitología'], ['Asimismo', 'Comisión', 'informará', 'Parlamento', 'Europeo', 'fases', 'procedimiento', 'particular', 'referente', 'elaboración', 'programa', 'trabajo', 'desarrollo', 'trabajos', 'previos'], ['En', 'sectores', 'sensibles', 'agentes', 'contaminantes', 'emisiones', 'ruido', 'Consejo', 'Comisión', 'acordaron', 'contexto', 'declaración', 'consta', 'actas', 'Consejo', 'adopción', 'medidas', 'sectores', 'deberá', 'tener', 'lugar', 'escala', 'comunitaria', 'arreglo', 'disponen', 'artículos', 'A', 'B', 'que', 'sólo', 'después', 'haber', 'cumplido', 'dichos', 'trámites', 'iniciará', 'procedimiento', 'aprobación', 'enmienda', 'reglamento'], ['En', 'sentido', 'Comisión', 'pretendido', 'garantizar', 'Parlamento', 'intervenga', 'trámites', 'procedimiento', 'reciba', 'información', 'forma', 'completa', 'correcta'], ['De', 'cualquier', 'modo', 'participantes', 'deberán', 'contribuir', 'fin', 'procedimientos', 'puedan', 'tramitarse', 'forma', 'eficaz'], ['Desde', 'punto', 'vista', 'creo', 'Comisión', 'través', 'cambio', 'evidente', 'que', 'aspecto', 'jurídico', 'codecisión', 'formas', 'cooperación', 'ya', 'requiere', 'tipo', 'acuerdos', 'mostrado', 'interés', 'participación', 'Parlamento', 'Europeo', 'particular', 'referente', 'materias', 'sensibles', 'que', 'respecta', 'relaciones', 'institucionales', 'atañen', 'consumidores', 'emisiones', 'contaminantes', 'ruido'], ['El', 'debate', 'queda', 'cerrado'], ['Se', 'procede', 'votación', 'informe', 'Sr', 'Kittelmann'], ['El', 'Parlamento', 'aprueba', 'decisión'], ['Al', 'igual', 'colega', 'Peter', 'Kittelmann', 'considero', 'debemos', 'firmar', 'acuerdo'], ['La', 'función', 'acuerdos', 'garantizar', 'competencia', 'leal', 'mercado', 'cesa', 'internacionalizarse'], ['Por', 'consiguiente', 'debemos', 'velar', 'respeto', 'compromisos', 'contraídos', 'terceros', 'países'], ['No', 'podría', 'admitir', 'y', 'industria', 'podría', 'soportar', 'Unión', 'Europea', 'aplicara', 'manera', 'unilateral', 'diferentes', 'acuerdos', 'firmados'], ['La', 'creación', 'OMC', '', 'sólo', 'válida', 'medida', 'podía', 'hacer', 'aplicar', 'normas', 'dictadas'], ['Hoy', 'resulta', 'necesario', 'reforzar', 'herramientas', 'jurídicas', 'lograrlo', 'efectivamente'], ['Numerosos', 'ejemplos', 'dan', 'prueba', 'competencia', 'desleal', 'parte', 'socios'], ['Estas', 'desviaciones', 'respecto', 'cuales', 'menudo', 'Europa', 'reacciona', 'timidez', 'consecuencias', 'graves', 'conjunto', 'sectores', 'industriales'], ['Todos', 'mente'], ['La', 'Unión', 'Europea', 'puede', 'firmar', 'gran', 'cantidad', 'acuerdos', 'debe', 'vigilante', 'respecto', 'aplicación', 'efectiva', 'todos'], ['Europa', 'debe', 'respetar', 'compromisos'], ['Sin', 'embargo', 'perjudicial', 'anticipar', 'aplicación', 'hacerlo', 'competidores'], ['Producción', 'cinematográfica', 'audiovisual'], ['De', 'conformidad', 'orden', 'día', 'procede', 'debate', 'conjunto', 'seis', 'preguntas', 'orales', 'siguientes'], ['B', 'Sra', 'Guinebertière', 'nombre', 'Grupo', 'Unión', 'Europa', 'Fondo', 'Garantía', 'fomento', 'producción', 'cinematográfica', 'audiovisual', 'B', 'Sr', 'Monfils', 'Sra', 'Ryynanen', 'nombre', 'Grupo', 'Partido', 'Europeo', 'Liberales', 'Demócratas', 'Reformistas', 'creación', 'Fondo', 'Garantía', 'B', 'Sra', 'Pailler', 'nombre', 'Grupo', 'Confederal', 'Izquierda', 'Unitaria', 'Europea', '', 'Izquierda', 'Verde', 'Nórdica', 'Fondo', 'Garantía', 'fomento', 'producción', 'cinematográfica', 'audiovisual', 'B', 'Sra', 'LeperreVerrier', 'nombre', 'Grupo', 'Coalición', 'Radical', 'Europea', 'Fondo', 'Garantía', 'fomento', 'producción', 'cinematográfica', 'audiovisual', 'B', 'Sr', 'Ripa', 'di', 'Meana', 'nombre', 'Grupo', 'Verdes', 'Parlamento', 'Europeo', 'Fondo', 'Garantía', 'fomento', 'producción', 'cinematográfica', 'audiovisual', 'B', 'Sra', 'Pack', 'Sres'], ['Pex', 'Perry', 'nombre', 'Grupo', 'Partido', 'Popular', 'Europeo', 'Fondo', 'Garantía', 'fomento', 'producción', 'cinematográfica', 'audiovisual'], ['Señora', 'Presidenta', 'señora', 'Comisaria', 'recordará', 'Parlamento', 'Europeo', 'pronunciado', 'octubre', '', 'favor', 'creación', 'Fondo', 'Garantía', 'fomento', 'producción', 'cinematográfica', 'audiovisual'], ['Este', 'instrumento', 'financiero', 'destinado', 'incitar', 'bancos', 'órganos', 'financian', 'sector', 'incrementasen', 'intervenciones', 'pro', 'producción', 'cinematográfica', 'través', 'concesión', 'garantía', 'parcial', 'préstamos', 'mismo', 'otorgaría', 'productores'], ['Durante', 'Presidencia', 'irlandesa', 'Consejo', 'diciembre', 'aceptado', 'propuesta', 'a', 'pesar', 'recogía', 'idea', 'fase', 'experimental', 'cinco', 'años', 'apoyándose', 'estudio', 'Fondo', 'Europeo', 'Inversiones', 'ofrecía', 'garantías', 'gestión', 'dicho', 'Fondo'], ['El', 'Consejo', 'Cultura', 'Presidencia', 'luxemburguesa', 'debe', 'volver', 'examinar', 'noviembre', 'propuesta', 'compromiso'], ['Como', 'ponente', 'Parlamento', 'expediente', 'podido', 'evaluar', 'previsiones', 'profesionales', 'ámbito', 'industria', 'audiovisual', 'sector', 'financiero'], ['El', 'efecto', 'catalizador»', 'Fondo', 'Garantía', 'permitiría', 'sólo', 'desarrollo', 'mayor', 'número', 'producciones', 'sino', 'realización', 'catálogos', 'cuyo', 'consumo', 'incrementando', 'debido', 'desarrollo', 'mercado', 'nuevos', 'servicios'], ['Todas', 'cifras', 'analizamos', 'ámbito', 'contribuyen', 'demostrar', 'dos', 'circunstancias'], ['La', 'primera', 'desarrollo', 'numerosos', 'canales', 'utilización', 'transmisión', 'imágenes', 'digitales', 'aumentan', 'constantemente', 'y', 'Europa', 'según', 'previsiones', 'período', ''], ['El', 'crecimiento', 'ingresos', 'globales', 'sector', 'estimado', 'media', 'superior', ''], ['Y', 'películas', 'parte', 'importante', 'sector', 'industrial', 'extiende', 'día', 'día', 'campo', 'formación', 'educación', 'información', 'comercio', 'etcétera'], ['Existe', 'tanto', 'expansión', 'extremadamente', 'fuerte', 'consumo', 'productos'], ['La', 'segunda', 'constatación', 'consiste', 'déficit', 'financiero', 'presentan', 'intercambios', 'culturales', 'audiovisuales', 'Unión', 'Estados', 'Unidos', 'Norteamérica', 'alcanza', 'hoy', 'cifra', 'millardos', 'dólares', 'balance', 'negativo', 'Unión', 'que', 'desgraciadamente', 'representa', '', 'puestos', 'trabajo'], ['En', 'momento', 'reunión', 'Cumbre', 'Luxemburgo', 'momento', 'Estados', 'consideran', 'vergonzosa', 'tasa', 'desempleo', 'debemos', 'hacer', 'manos', 'todos', 'políticos', 'responsables', 'fin', 'dotar', 'dicho', 'sector', 'medios', 'generar', 'nuevos', 'puestos', 'trabajo', 'menudo', 'pertenecen', 'campo', 'alta', 'tecnología'], ['Sé', 'Comisión', 'Parlamento', 'sensible', 'argumento', 'consciente', 'filón', 'potencial', 'empleo'], ['Le', 'pido', 'entonces', 'ayude', 'frente', 'Consejo', 'creo', 'juntos', 'podríamos', 'recorrer', 'buen', 'tramo', 'camino'], ['Este', 'instrumento', 'completaría', 'herramientas', 'política', 'audiovisual', 'europea', 'permitido', 'junto', 'Directiva', 'Televisión', 'fronteras»', 'programa', 'MEDIA', 'estructurar', 'profesión', 'traduce', 'aumento', 'permanente', 'demanda', 'productos', 'cinematográficos'], ['Así', 'pues', 'doy', 'gracias', 'Comisión', 'apoyo', 'puede', 'darnos', 'asunto'], ['Señora', 'Presidenta', 'dicho', 'estimada', 'colega', 'Sra', 'Guinebertière', 'Fondo', 'Garantía', 'novedad', 'Parlamento', 'Europeo'], ['Su', 'creación', 'efecto', 'propuso', 'hace', 'año', 'sistema', 'vez', 'simple', 'oneroso', 'como', 'dicho', 'extremadamente', 'útil', 'desarrollo', 'producción', 'audiovisual'], ['Puesto', 'menudo', 'cultura', 'vinculada', 'economía', 'momento', 'demostrar', 'puede', 'pasar', 'palabras', 'hechos'], ['En', 'medida', 'industria', 'cultural', 'generadora', 'puestos', 'trabajo', 'hecho', 'hace', 'tiempo', 'comprobado', 'lógico', 'incitar', 'sector', 'privado', 'emplearse', 'fondo'], ['Pero', 'cada', 'producto', 'audiovisual', 'constituye', 'prototipo', 'poderes', 'públicos', 'deben', 'asumir', 'responsabilidades', 'corriendo', 'parte', 'riesgos', 'ayuda', 'cine'], ['No', 'obstante', 'cine', 'sólo', 'representa', 'puestos', 'trabajo', 'expresión', 'artística', 'convergencias', 'diversidades', 'par', 'constituye', 'potente', 'incentivo', 'ámbito', 'política', 'cultural'], ['Impulsar', 'ayuda', 'cine', 'significa', 'permitir', 'ciudadanos', 'vean', 'salas', 'cadenas', 'televisión', 'reflejo', 'identidades', 'propias', 'lugar', 'someterse', 'constantemente', 'alienación', 'cultura', 'venida', 'fuera'], ['Por', 'considero', 'Fondo', 'Garantía', 'herramienta', 'suplementaria', 'particularmente', 'necesaria', 'desarrollo', 'creación', 'cinematográfica', 'europea'], ['Señora', 'Presidenta', 'Estados', 'querido', 'Amsterdam', 'desempeñara', 'mayor', 'papel', 'ámbito', 'cultural', 'diputados', 'artículo', 'particularmente', 'insuficiente'], ['Los', 'ministros', 'Cultura', 'hoy', 'oportunidad', 'corregir', 'parte', 'error', 'dando', 'luz', 'verde', 'nacimiento', 'Fondo', 'Garantía'], ['Señora', 'Presidenta', 'déficit', 'intercambios', 'culturales', 'cine', 'televisión', 'vídeo', 'Unión', 'Europea', 'Estados', 'Unidos', '', 'millardos', 'dólares'], ['En', 'déficit', 'triplicó', 'creces', 'alcanzar', '', 'millardos', 'dólares'], ['En', 'efecto', 'fuerte', 'expansión', 'sector', 'audiovisual', 'Europa', 'creación', 'nuevas', 'cadenas', 'beneficia', 'esencialmente', 'Estados', 'Unidos'], ['El', 'porcentaje', 'películas', 'norteamericanas', 'exhibidas', 'salas', 'Europeas', 'continúa', 'progresando', 'alcanzar', ''], ['Estas', 'cifras', 'demuestran', 'claramente', 'Estados', 'Unidos', 'valorado', 'importante', 'baza', 'representa', 'cine', 'ámbito', 'audiovisual', 'punto', 'vista', 'comercial', 'político'], ['Frente', 'dominación', 'norteamericana', 'Unión', 'Europea', 'debe', 'luchar', 'parte', 'frenar', 'flujo', 'producciones', 'norteamericanas', 'y', 'otra', 'defender', 'desarrollar', 'propias', 'producciones', 'cinematográficas', 'audiovisuales'], ['Se', 'trata', 'verdadera', 'apuesta', 'terreno', 'civilización'], ['Gracias', 'movilización', 'profesionales', 'cultura', 'relevado', 'Asamblea', 'logrado', 'imponer', 'negociaciones', 'GATT', 'principio', 'excepción', 'cultural', 'reconocía', 'obras', 'culturales', 'mercancías'], ['La', 'defensa', 'principio', 'mantiene', 'nunca', 'vigencia'], ['Éste', 'defenderse', 'actuales', 'negociaciones', 'acuerdo', 'multilateral', 'inversiones', 'marco', 'OCDE', 'cuyo', 'seno', 'excluir', 'cine', 'ámbito', 'audiovisual', 'propiedad', 'intelectual', 'través', 'creación', 'promoción', 'instrumentos', 'jurídicos', 'financieros', 'adecuados', 'eficaces'], ['Al', 'completar', 'programa', 'MEDIA', 'Fondo', 'Garantía', 'pesar', 'limitaciones', 'reglamentarias', 'carencias', 'financieras', 'puede', 'efectivamente', 'contribuir', 'impulsar', 'producción', 'distribución', 'obras', 'culturales', 'originarias', 'Estados', 'miembros'], ['El', 'Parlamento', 'Europeo', 'aprobado', 'octubre', 'propuesta', 'Comisión', 'tras', 'reforzarla', 'través', 'numerosas', 'enmiendas'], ['Lamento', 'Consejo', 'aún', 'logrado', 'acuerdo', 'debido', 'oposición', 'Estados', 'miembros'], ['El', 'objetivo', 'esencial', 'debate', 'resolución', 'presentada', 'Grupo', 'dar', 'enérgica', 'señal', 'Consejo', 'Ministros', 'Cultura', 'reunión', 'noviembre', 'alcance', 'acuerdo'], ['El', 'hecho', 'tomar', 'consideración', 'recientes', 'propuestas', 'Federación', 'europea', 'realizadores', 'audiovisuales', 'podría', 'permitir', 'desbloquear', 'situación'], ['Al', 'aprobar', 'Fondo', 'Garantía', 'Consejo', 'expresará', 'voluntad', 'defender', 'cultura', 'países', 'Europa', 'resistir', 'dominación', 'económica', 'cultural', 'Estados', 'Unidos'], ['Señora', 'Presidenta', 'dentro', 'días', 'Consejo', 'Cultura', 'deberá', 'tomar', 'decisión', 'respecto', 'creación', 'Fondo', 'Garantía', 'fomento', 'producción', 'audiovisual'], ['La', 'cuestión', 'nueva', 'Consejo', 'bloquea', 'decisión', 'pesar', 'ser', 'fundamental'], ['Hoy', 'esperamos', 'Consejo', 'traduzca', 'fin', 'palabras', 'actos'], ['Me', 'explico'], ['En', 'momento', 'que', 'primera', 'vez', 'Estados', 'Unión', 'reúnen', 'definir', 'estrategia', 'común', 'empleo', 'conviene', 'recordar', 'mercado', 'audiovisual', 'plena', 'expansión'], ['El', 'mismo', 'representa', 'filón', 'potencial', 'dos', 'millones', 'puestos', 'trabajo'], ['Por', 'lado', 'trata', 'sector', 'puntero', 'situado', 'centro', 'grandes', 'cambios', 'tecnológicos', 'paso', 'sistema', 'digital', 'º', 'imponen', 'desarrollo', 'industria', 'programas', 'dinámica', 'si', 'queremos', 'ir', 'nuevamente', 'remolque', 'Estados', 'Unidos', 'poner', 'peligro', 'identidad', 'cultural'], ['En', 'sentido', 'debemos', 'constatar', 'norteamericanos', 'cuya', 'invasión', 'cultural', 'con', 'razón', 'tememos', 'sabido', 'desarrollar', 'industria', 'audiovisual', 'que', 'punto', 'vista', 'exportación', 'resulta', 'importante', 'industrias', 'automóvil', 'productos', 'farmacéuticos', 'juntas'], ['En', 'Europa', 'soñaríamos', 'situación', 'similar'], ['Este', 'Fondo', 'Garantía', 'actuar', 'verdadero', 'estárter', 'permitiría', 'estimular', 'inversión', 'sector', 'riesgo', 'debemos', 'subrayar', 'gravar', 'larga', 'presupuesto', 'Unión'], ['Resulta', 'lamentable', 'constatar', 'bloqueos', 'cuantos', 'reducción', 'dotación', 'presupuestaria', 'programa', 'MEDIA', 'II', 'debía', 'ser', 'compensada', 'creación', 'Fondo'], ['Una', 'vez', 'más', 'producción', 'audiovisual', 'europea', 'perderá', 'puede', 'incluso', 'decirse', 'nuevamente', 'víctima', 'regla', 'unanimidad', 'Consejo'], ['Señora', 'Presidenta', 'solicitud', 'dos', 'preguntas'], ['Pedimos', 'garantice', 'Fondo', 'privilegie', 'grandes', 'producciones', 'fomente', 'coproducciones', 'productores', 'países', 'cuyo', 'ámbito', 'lingüístico', 'reducido', 'difundiéndolas', 'así', 'ciudadanos', 'Unión', 'Europea'], ['Y', 'formulamos', 'dos', 'preguntas', 'Comisión'], ['Está', 'corriente', 'texto', 'compromiso', 'Presidencia', 'luxemburguesa', 'y', 'caso', 'afirmativo', 'cuál', 'posición', 'respecto'], ['Por', 'último', 'cuál', 'previsión', 'puede', 'hacer', 'refiere', 'desarrollo', 'Consejo', 'Cultura', 'día', 'noviembre', 'que', 'finalmente', 'podría', 'alcanzar', 'acuerdo', 'creación', 'Fondo'], ['Señora', 'Presidenta', 'preparar', 'intervención', 'debate', 'hoy', 'releía', 'ayer', 'notable', 'informe', 'Sra', 'Guinebertière', 'elaborado', 'hace', 'casi', 'año', 'así', 'conferencia', 'pronunciada', 'recientemente', 'comisario', 'Ortega', 'Munich'], ['Cuando', 'interesa', 'problema', 'puede', 'menos', 'sorprenderse', 'cifras', 'demuestran', 'importancia', 'situación'], ['Varios', 'oradores', 'hablado', 'ello'], ['En', 'Europa', 'suerte', 'poseer', 'mayor', 'mercado', 'audiovisual', 'expansión', 'mundo', 'perspectivas', 'expansión', 'casi', 'duplicarán', 'diez', 'próximos', 'años'], ['Pero', 'parte', 'constatamos', 'a', 'pesar', 'dedicarnos', 'realizar', 'gran', 'mercado', 'diez', 'multinacionales', 'comunicación', 'mundialmente', 'importantes', 'cuatro', 'europeas', 'momento', 'porcentaje', 'ingresos', 'empresas', 'europeas', 'propio', 'mercado', 'siquiera', 'representa', 'tercera', 'parte', 'total', 'ingresos', 'sector', 'audiovisual'], ['Esto', 'quiere', 'decir', 'empresas', 'extranjeras', 'propio', 'mercado', 'perciben', 'dos', 'terceras', 'partes', 'ingresos'], ['En', 'materia', 'empleo', 'situación', 'es', 'desgraciadamente', 'grave', 'dicho', 'Sra', 'Guinebertière', 'sólo', 'refería', 'repercusión', 'anual', 'déficit', 'comercial'], ['Si', 'compara', 'empleo', 'Estados', 'Unidos', 'conjunto', 'sector', 'audiovisual', 'totaliza', '', 'millones', 'trabajadores', 'Comunidad', 'Europea', 'sólo', 'alcanza', '', 'déficit', 'sector', 'cultural', 'asciende', 'prácticamente', 'millón', 'puestos', 'trabajo'], ['Por', 'razón', 'pienso', 'incitación', 'hoy', 'Consejo', 'gran', 'alcance'], ['Yo', 'piensan', 'oradora', 'anterior', 'mejor', 'excepción', 'cultural'], ['Me', 'alegra', 'comprobar', 'parte', 'oradores', 'lengua', 'diferente', 'francés', 'tomado', 'palabra', 'quisiera', 'cultura', 'asimilara', 'simplemente', 'lengua', 'francesa'], ['Tampoco', 'piensan', 'lógica', 'cuotas', 'producciones', 'sustituir', 'producciones', 'europeas', 'mediocres', 'producciones', 'norteamericanas', 'mediocres', 'mejor'], ['Pienso', 'futuro', 'ámbito', 'audiovisual', 'europeo', 'basa', 'calidad', 'ello', 'representa', 'inversión', 'inversión', 'debe', 'estimularse'], ['El', 'mecanismo', 'Fondo', 'Garantía', 'extraordinariamente', 'simple', 'eficaz'], ['Una', 'dotación', 'base', 'modesta', 'préstamos', 'garantías', 'acuerdo', 'condiciones', 'mercado', 'o', 'sea', 'trata', 'mecanismo', 'burocrático', 'nefasto', 'constituyen', 'estímulo', 'considerable'], ['Los', 'profesionales', 'sector', 'piden', 'Fondo', 'Garantía', 'Comisión', 'propuesto', 'Parlamento', 'apoya', 'siguiendo', 'impulso', 'Sra', 'Guinebertière'], ['Ya', 'sólo', 'falta', 'Consejo', 'decida', 'particular', 'seno', 'Consejo', 'Estado'], ['Que', 'Estado', 'paladín', 'liberalismo', 'escuche', 'hoy', 'voz', 'aquellos', 'desean', 'desarrollo', 'Europa', 'diga', 'sí»', 'noviembre'], ['Señora', 'Presidenta', 'estimados', 'colegas', 'ponente', 'Libro', 'Verde', 'Fortalecimiento', 'Industria', 'Audiovisual', 'Europa', 'hace', 'algún', 'tiempo'], ['Nos', 'enfrentado', 'tarea', 'esencialmente', 'tres', 'instrumentos', 'debían', 'haber', 'producido', 'fortalecimiento', 'concreto', 'directiva', 'televisión', 'entretanto', 'sido', 'parada', 'programa', 'MEDIA', 'buen', 'camino', 'fondo', 'garantía', 'europeo', 'prospera', 'bloqueado', 'Consejo'], ['Sin', 'embargo', 'importante', 'presupuesto', 'conseguir', 'capacidad', 'competir', 'mercado', 'frente', 'competencia', 'extranjera'], ['No', 'podemos', 'seguir', 'aceptando', 'subvención', 'pequeños', 'aunque', 'buenos', 'productos', 'artísticos', 'mayoría', 'nunca', 'acceden', 'salas', 'cine', 'emitidas', 'ninguna', 'cadena', 'televisión'], ['En', 'Alemania', 'sólo', 'cada', 'dos', 'películas', 'llega', 'ser', 'exhibida', 'cine'], ['Ni', 'siquiera', 'proyectan', 'pequeños', 'cines', 'programa'], ['Este', 'inconveniente', 'subvención', 'errónea', 'ello', 'especialmente', 'lamentable', 'según', 'entendido', 'precisamente', 'Alemania', 'ejerce', 'bloqueo', 'Consejo'], ['Espero', 'encarecidamente', 'consiga', 'aprovechar', 'experiencia', 'directores', 'productores', 'banqueros', 'institutos', 'medios', 'y', 'último', 'lugar', 'fundaciones', 'cinematográficas', 'alcance', 'decisión', 'distinta', 'tomadas', 'fecha'], ['Sólo', 'modo', 'posible', 'aprovechar', 'oportunidades', 'sido', 'aquí', 'descritas', 'hacer', 'avanzar', 'gran', 'cine', 'naturalmente', 'forma', 'coproducciones', 'que', 'parte', 'viene', 'siendo', 'habitual'], ['Tendremos', 'película', 'ésta', 'competitiva', 'coproducción', 'televisión'], ['Éste', 'mercado', 'creciente'], ['En', 'EEUU', 'habitual', 'inversión', 'capital', 'riesgo'], ['Aquí', 'desgraciadamente', 'no'], ['Hemos', 'querido', 'paliar', 'insuficiencia', 'fondo', 'garantía', 'si', 'queremos', 'convertir', 'buenas', 'intenciones', 'realidad', 'entonces', 'llegar', 'momento', 'fondo', 'garantía', 'convierta', 'realidad'], ['Espero', 'aspecto', 'Comisión', 'pueda', 'aspecto', 'ejercer', 'presión'], ['Señora', 'Presidenta', 'estimados', 'colegas', 'creo', 'caso', 'debemos', 'presentar', 'argumentación', 'precisa'], ['De', 'hecho', 'trata', 'desarrollar', 'sector', 'importante', 'futuro', 'punto', 'vista', 'económico', 'capacidad', 'mostrar', 'diferencia', 'Unión', 'Europea', 'grandes', 'bloques', 'existentes', 'mundo', 'diversidad', 'pluralidad', 'creatividad'], ['Por', 'ello', 'importante', 'fondo', 'garantía', 'cuenta', 'lenguas', 'minoritarias', 'pequeñas', 'producciones'], ['Las', 'pequeñas', 'producciones', 'Sra', 'Junker', 'porqué', 'reñidas', 'mercado', 'debe', 'ser', 'inmediatamente', 'desechado'], ['Naturalmente', 'necesaria', 'coproducción', 'naturalmente', 'necesaria', 'subvención', 'naturalmente', 'necesario', 'fondo', 'garantía', 'instrumento', 'que', 'ahora', 'después', 'muchas', 'decisiones', 'sido', 'rechazadas', 'probablemente', 'realizable', 'efectivo'], ['Creo', 'deberíamos', 'dirigirnos', 'aquellos', 'Estados', 'miembros', 'que', 'Alemania', 'aposentan', 'casita', 'freno'], ['No', 'tolerable', 'país', 'crea', 'encontrarse', 'cabeza', 'desarrollo', 'europeo', 'y', 'vez', 'bloquee', 'dossiers'], ['Política', 'empleo', 'política', 'audiovisual', 'podría', 'alargar', 'lista'], ['Esto', 'ser', 'superado'], ['Señora', 'Presidenta', 'igual', 'Sr', 'Deprez', 'vuelto', 'leer', 'informe', 'elaborado', 'Sra', 'Guinebertière', 'año', 'pasado', 'desearía', 'recoger', 'frase', 'sabría', 'expresar', 'mejor', 'una', 'alternativa', 'visión', 'Hollywood', 'ofrece', 'mundo»', ''], ['Comparto', 'plenamente', 'manera', 'exponer', 'problema', 'asocio', 'todas', 'peticiones', 'desbloqueo', 'proyecto', 'Fondo', 'Garantía', 'presentado', 'diferentes', 'oradores', 'pero', 'si', 'permiten', 'querría', 'hablar', 'función', 'política', 'general', 'menudo', 'olvida', 'ámbito', 'cultural', 'quizá', 'terreno', 'preferente', 'hacer', 'hincapié', 'político'], ['Entre', 'nosotros', 'costumbre', 'decir', 'proyecto', 'europeo', 'basa', 'referencia', 'pasado', 'historia', 'unas', 'tradiciones', 'comunes', 'verdad'], ['También', 'verdad', 'presente', 'respecto', 'base', 'valores', 'comunes', 'que', 'precisamente', 'forjado', 'historia'], ['Pero', 'miras', 'futuro', 'debemos', 'decir', 'creación', 'literaria', 'cinematográfica', 'artística', 'audiovisual', 'ciertamente', 'herramienta', 'prospectiva', 'importante', 'horizonte', 'denominamos', 'humanismo', 'europeo»'], ['Considero', 'problema', 'aún', 'vasto', 'quizá', 'ver', 'crisis', 'valores', 'universalismo', 'progresivamente', 'corrompido'], ['Puesto', 'pienso', 'democracia', 'deje', 'reducir', 'vaga', 'ideología', 'derechos', 'hombre'], ['No', 'pienso', 'liberalismo', 'político', 'simplemente', 'materialismo', 'principios'], ['No', 'creo', 'intercambio', 'internacional', 'reduzca', 'globalización', 'desprecia', 'personas', 'creo', 'universalismo', 'pueda', 'resumirse', 'uniformidad'], ['La', 'pérdida', 'valores', 'universalismo', 'directamente', 'ligada', 'origen', 'ascensión', 'calificar', 'a', 'falta', 'palabras', 'apropiadas', 'identidarismo»', 'etnicismo»', 'tribalismo»', 'religiosidad', 'profundamente', 'medieval'], ['Cuando', 'abdicado', 'totalmente', 'frente', 'flujo', 'mundial', 'seudo', 'cultura', 'colmada', 'capacidades', 'financieras', 'precedentes', 'fortalecida', 'herramientas', 'comunicación', 'convertidas', 'medios', 'imperiales', 'empobrecida', 'propia', 'victoria', 'cuando', 'final', 'liberalismo', 'desenfrenado', 'hecho', 'libres', 'elegir', 'Pepsi', 'Coca', 'deberemos', 'sorprendernos', 'si', 'vemos', 'millones', 'seres', 'humanos', 'buscando', 'porvenir', 'diferente', 'través', 'afirmación', 'violenta', 'identidad'], ['La', 'Sra', 'Ainardi', 'hablado', 'apuesta', 'terreno', 'civilización'], ['Creo', 'efecto', 'lucha', 'queda', 'esencialmente', 'librar', 'defensa', 'singularidad', 'diversidad', 'europea', 'constituye', 'aspectos', 'modernos', 'combate', 'civilización', 'libra', 'barbarie'], ['Les', 'comunico', 'recibido', 'siete', 'propuestas', 'resolución', 'presentadas', 'virtud', 'apartado', 'artículo', 'Reglamento'], ['Señora', 'Presidenta', 'voy', 'ir', 'camino', 'espiritualidad', 'seguido', 'último', 'orador'], ['Simplemente', 'quiero', 'decir', 'Sra', 'Guinebertière', 'parte', 'yo', 'provengo', 'mundo', 'anglosajón', 'declaro', 'interés', 'tema', 'llevar', 'años', 'trabajando', 'sector', 'audiovisual', 'adelante', 'Sra', 'Guinebertière»'], ['No', 'debe', 'usted', 'nunca', 'nunca', 'darse', 'vencida', 'esto'], ['Quiero', 'decir', 'qué'], ['No', 'crea', 'propuesta', 'carece', 'peligros', 'dificultades']]\n"
          ]
        }
      ],
      "source": [
        "print (\"numero de oraciones presentes en el corpus: \" + str(len(sentences)))\n",
        "print (\"                 numero de palabras unicas: \" + str(len(diccionario)))\n",
        "print(sentences[1:300])"
      ],
      "id": "5496c9e7"
    },
    {
      "cell_type": "markdown",
      "metadata": {
        "id": "split-replication"
      },
      "source": [
        "\n"
      ],
      "id": "split-replication"
    }
  ],
  "metadata": {
    "accelerator": "GPU",
    "colab": {
      "gpuType": "T4",
      "provenance": []
    },
    "kernelspec": {
      "display_name": "Python 3 (ipykernel)",
      "language": "python",
      "name": "python3"
    },
    "language_info": {
      "codemirror_mode": {
        "name": "ipython",
        "version": 3
      },
      "file_extension": ".py",
      "mimetype": "text/x-python",
      "name": "python",
      "nbconvert_exporter": "python",
      "pygments_lexer": "ipython3",
      "version": "3.7.16"
    },
    "varInspector": {
      "cols": {
        "lenName": 16,
        "lenType": 16,
        "lenVar": 40
      },
      "kernels_config": {
        "python": {
          "delete_cmd_postfix": "",
          "delete_cmd_prefix": "del ",
          "library": "var_list.py",
          "varRefreshCmd": "print(var_dic_list())"
        },
        "r": {
          "delete_cmd_postfix": ") ",
          "delete_cmd_prefix": "rm(",
          "library": "var_list.r",
          "varRefreshCmd": "cat(var_dic_list()) "
        }
      },
      "types_to_exclude": [
        "module",
        "function",
        "builtin_function_or_method",
        "instance",
        "_Feature"
      ],
      "window_display": false
    },
    "widgets": {
      "application/vnd.jupyter.widget-state+json": {
        "7363e4d73523408186fb87393197c1aa": {
          "model_module": "@jupyter-widgets/controls",
          "model_name": "HBoxModel",
          "model_module_version": "1.5.0",
          "state": {
            "_dom_classes": [],
            "_model_module": "@jupyter-widgets/controls",
            "_model_module_version": "1.5.0",
            "_model_name": "HBoxModel",
            "_view_count": null,
            "_view_module": "@jupyter-widgets/controls",
            "_view_module_version": "1.5.0",
            "_view_name": "HBoxView",
            "box_style": "",
            "children": [
              "IPY_MODEL_c59bccaafc51465f8b06065a2c915905",
              "IPY_MODEL_0c05147943064465a814132ba31a9592",
              "IPY_MODEL_312261e6a34749c694e15fd85a4a4e5f"
            ],
            "layout": "IPY_MODEL_960881979f2c40a4b67a4092aa81eece"
          }
        },
        "c59bccaafc51465f8b06065a2c915905": {
          "model_module": "@jupyter-widgets/controls",
          "model_name": "HTMLModel",
          "model_module_version": "1.5.0",
          "state": {
            "_dom_classes": [],
            "_model_module": "@jupyter-widgets/controls",
            "_model_module_version": "1.5.0",
            "_model_name": "HTMLModel",
            "_view_count": null,
            "_view_module": "@jupyter-widgets/controls",
            "_view_module_version": "1.5.0",
            "_view_name": "HTMLView",
            "description": "",
            "description_tooltip": null,
            "layout": "IPY_MODEL_9f31f3c04c10451883c938d0573b8add",
            "placeholder": "​",
            "style": "IPY_MODEL_28a02d3c2de04658bdf47c7ad4451832",
            "value": "100%"
          }
        },
        "0c05147943064465a814132ba31a9592": {
          "model_module": "@jupyter-widgets/controls",
          "model_name": "FloatProgressModel",
          "model_module_version": "1.5.0",
          "state": {
            "_dom_classes": [],
            "_model_module": "@jupyter-widgets/controls",
            "_model_module_version": "1.5.0",
            "_model_name": "FloatProgressModel",
            "_view_count": null,
            "_view_module": "@jupyter-widgets/controls",
            "_view_module_version": "1.5.0",
            "_view_name": "ProgressView",
            "bar_style": "success",
            "description": "",
            "description_tooltip": null,
            "layout": "IPY_MODEL_d84a4353516542fca905a263d957e1a3",
            "max": 2167351,
            "min": 0,
            "orientation": "horizontal",
            "style": "IPY_MODEL_57935005488a4f5ca21ecbee81721a32",
            "value": 2167351
          }
        },
        "312261e6a34749c694e15fd85a4a4e5f": {
          "model_module": "@jupyter-widgets/controls",
          "model_name": "HTMLModel",
          "model_module_version": "1.5.0",
          "state": {
            "_dom_classes": [],
            "_model_module": "@jupyter-widgets/controls",
            "_model_module_version": "1.5.0",
            "_model_name": "HTMLModel",
            "_view_count": null,
            "_view_module": "@jupyter-widgets/controls",
            "_view_module_version": "1.5.0",
            "_view_name": "HTMLView",
            "description": "",
            "description_tooltip": null,
            "layout": "IPY_MODEL_d7470d2a3fce4eddbb3bdbcf289b6bb2",
            "placeholder": "​",
            "style": "IPY_MODEL_92d35ffe146342128fd334c6961ac139",
            "value": " 2167351/2167351 [00:35&lt;00:00, 79259.57it/s]"
          }
        },
        "960881979f2c40a4b67a4092aa81eece": {
          "model_module": "@jupyter-widgets/base",
          "model_name": "LayoutModel",
          "model_module_version": "1.2.0",
          "state": {
            "_model_module": "@jupyter-widgets/base",
            "_model_module_version": "1.2.0",
            "_model_name": "LayoutModel",
            "_view_count": null,
            "_view_module": "@jupyter-widgets/base",
            "_view_module_version": "1.2.0",
            "_view_name": "LayoutView",
            "align_content": null,
            "align_items": null,
            "align_self": null,
            "border": null,
            "bottom": null,
            "display": null,
            "flex": null,
            "flex_flow": null,
            "grid_area": null,
            "grid_auto_columns": null,
            "grid_auto_flow": null,
            "grid_auto_rows": null,
            "grid_column": null,
            "grid_gap": null,
            "grid_row": null,
            "grid_template_areas": null,
            "grid_template_columns": null,
            "grid_template_rows": null,
            "height": null,
            "justify_content": null,
            "justify_items": null,
            "left": null,
            "margin": null,
            "max_height": null,
            "max_width": null,
            "min_height": null,
            "min_width": null,
            "object_fit": null,
            "object_position": null,
            "order": null,
            "overflow": null,
            "overflow_x": null,
            "overflow_y": null,
            "padding": null,
            "right": null,
            "top": null,
            "visibility": null,
            "width": null
          }
        },
        "9f31f3c04c10451883c938d0573b8add": {
          "model_module": "@jupyter-widgets/base",
          "model_name": "LayoutModel",
          "model_module_version": "1.2.0",
          "state": {
            "_model_module": "@jupyter-widgets/base",
            "_model_module_version": "1.2.0",
            "_model_name": "LayoutModel",
            "_view_count": null,
            "_view_module": "@jupyter-widgets/base",
            "_view_module_version": "1.2.0",
            "_view_name": "LayoutView",
            "align_content": null,
            "align_items": null,
            "align_self": null,
            "border": null,
            "bottom": null,
            "display": null,
            "flex": null,
            "flex_flow": null,
            "grid_area": null,
            "grid_auto_columns": null,
            "grid_auto_flow": null,
            "grid_auto_rows": null,
            "grid_column": null,
            "grid_gap": null,
            "grid_row": null,
            "grid_template_areas": null,
            "grid_template_columns": null,
            "grid_template_rows": null,
            "height": null,
            "justify_content": null,
            "justify_items": null,
            "left": null,
            "margin": null,
            "max_height": null,
            "max_width": null,
            "min_height": null,
            "min_width": null,
            "object_fit": null,
            "object_position": null,
            "order": null,
            "overflow": null,
            "overflow_x": null,
            "overflow_y": null,
            "padding": null,
            "right": null,
            "top": null,
            "visibility": null,
            "width": null
          }
        },
        "28a02d3c2de04658bdf47c7ad4451832": {
          "model_module": "@jupyter-widgets/controls",
          "model_name": "DescriptionStyleModel",
          "model_module_version": "1.5.0",
          "state": {
            "_model_module": "@jupyter-widgets/controls",
            "_model_module_version": "1.5.0",
            "_model_name": "DescriptionStyleModel",
            "_view_count": null,
            "_view_module": "@jupyter-widgets/base",
            "_view_module_version": "1.2.0",
            "_view_name": "StyleView",
            "description_width": ""
          }
        },
        "d84a4353516542fca905a263d957e1a3": {
          "model_module": "@jupyter-widgets/base",
          "model_name": "LayoutModel",
          "model_module_version": "1.2.0",
          "state": {
            "_model_module": "@jupyter-widgets/base",
            "_model_module_version": "1.2.0",
            "_model_name": "LayoutModel",
            "_view_count": null,
            "_view_module": "@jupyter-widgets/base",
            "_view_module_version": "1.2.0",
            "_view_name": "LayoutView",
            "align_content": null,
            "align_items": null,
            "align_self": null,
            "border": null,
            "bottom": null,
            "display": null,
            "flex": null,
            "flex_flow": null,
            "grid_area": null,
            "grid_auto_columns": null,
            "grid_auto_flow": null,
            "grid_auto_rows": null,
            "grid_column": null,
            "grid_gap": null,
            "grid_row": null,
            "grid_template_areas": null,
            "grid_template_columns": null,
            "grid_template_rows": null,
            "height": null,
            "justify_content": null,
            "justify_items": null,
            "left": null,
            "margin": null,
            "max_height": null,
            "max_width": null,
            "min_height": null,
            "min_width": null,
            "object_fit": null,
            "object_position": null,
            "order": null,
            "overflow": null,
            "overflow_x": null,
            "overflow_y": null,
            "padding": null,
            "right": null,
            "top": null,
            "visibility": null,
            "width": null
          }
        },
        "57935005488a4f5ca21ecbee81721a32": {
          "model_module": "@jupyter-widgets/controls",
          "model_name": "ProgressStyleModel",
          "model_module_version": "1.5.0",
          "state": {
            "_model_module": "@jupyter-widgets/controls",
            "_model_module_version": "1.5.0",
            "_model_name": "ProgressStyleModel",
            "_view_count": null,
            "_view_module": "@jupyter-widgets/base",
            "_view_module_version": "1.2.0",
            "_view_name": "StyleView",
            "bar_color": null,
            "description_width": ""
          }
        },
        "d7470d2a3fce4eddbb3bdbcf289b6bb2": {
          "model_module": "@jupyter-widgets/base",
          "model_name": "LayoutModel",
          "model_module_version": "1.2.0",
          "state": {
            "_model_module": "@jupyter-widgets/base",
            "_model_module_version": "1.2.0",
            "_model_name": "LayoutModel",
            "_view_count": null,
            "_view_module": "@jupyter-widgets/base",
            "_view_module_version": "1.2.0",
            "_view_name": "LayoutView",
            "align_content": null,
            "align_items": null,
            "align_self": null,
            "border": null,
            "bottom": null,
            "display": null,
            "flex": null,
            "flex_flow": null,
            "grid_area": null,
            "grid_auto_columns": null,
            "grid_auto_flow": null,
            "grid_auto_rows": null,
            "grid_column": null,
            "grid_gap": null,
            "grid_row": null,
            "grid_template_areas": null,
            "grid_template_columns": null,
            "grid_template_rows": null,
            "height": null,
            "justify_content": null,
            "justify_items": null,
            "left": null,
            "margin": null,
            "max_height": null,
            "max_width": null,
            "min_height": null,
            "min_width": null,
            "object_fit": null,
            "object_position": null,
            "order": null,
            "overflow": null,
            "overflow_x": null,
            "overflow_y": null,
            "padding": null,
            "right": null,
            "top": null,
            "visibility": null,
            "width": null
          }
        },
        "92d35ffe146342128fd334c6961ac139": {
          "model_module": "@jupyter-widgets/controls",
          "model_name": "DescriptionStyleModel",
          "model_module_version": "1.5.0",
          "state": {
            "_model_module": "@jupyter-widgets/controls",
            "_model_module_version": "1.5.0",
            "_model_name": "DescriptionStyleModel",
            "_view_count": null,
            "_view_module": "@jupyter-widgets/base",
            "_view_module_version": "1.2.0",
            "_view_name": "StyleView",
            "description_width": ""
          }
        },
        "a30f35cb716d42d5af34f030135e66dd": {
          "model_module": "@jupyter-widgets/controls",
          "model_name": "HBoxModel",
          "model_module_version": "1.5.0",
          "state": {
            "_dom_classes": [],
            "_model_module": "@jupyter-widgets/controls",
            "_model_module_version": "1.5.0",
            "_model_name": "HBoxModel",
            "_view_count": null,
            "_view_module": "@jupyter-widgets/controls",
            "_view_module_version": "1.5.0",
            "_view_name": "HBoxView",
            "box_style": "",
            "children": [
              "IPY_MODEL_fa8dea8967484e6b9ca569448ad4ff5d",
              "IPY_MODEL_78387a1d28dc4e78a3064b641d91c1d3",
              "IPY_MODEL_9a28182d64534cdcb85af8dd840a3bac"
            ],
            "layout": "IPY_MODEL_7d5943106b774dedac9113bcbe013be3"
          }
        },
        "fa8dea8967484e6b9ca569448ad4ff5d": {
          "model_module": "@jupyter-widgets/controls",
          "model_name": "HTMLModel",
          "model_module_version": "1.5.0",
          "state": {
            "_dom_classes": [],
            "_model_module": "@jupyter-widgets/controls",
            "_model_module_version": "1.5.0",
            "_model_name": "HTMLModel",
            "_view_count": null,
            "_view_module": "@jupyter-widgets/controls",
            "_view_module_version": "1.5.0",
            "_view_name": "HTMLView",
            "description": "",
            "description_tooltip": null,
            "layout": "IPY_MODEL_9016d6f9532245f8b4936a2ea2b4a5c4",
            "placeholder": "​",
            "style": "IPY_MODEL_64e608b6dc06490db851ec9a893126b9",
            "value": "Downloading builder script: 100%"
          }
        },
        "78387a1d28dc4e78a3064b641d91c1d3": {
          "model_module": "@jupyter-widgets/controls",
          "model_name": "FloatProgressModel",
          "model_module_version": "1.5.0",
          "state": {
            "_dom_classes": [],
            "_model_module": "@jupyter-widgets/controls",
            "_model_module_version": "1.5.0",
            "_model_name": "FloatProgressModel",
            "_view_count": null,
            "_view_module": "@jupyter-widgets/controls",
            "_view_module_version": "1.5.0",
            "_view_name": "ProgressView",
            "bar_style": "success",
            "description": "",
            "description_tooltip": null,
            "layout": "IPY_MODEL_a3b18d00cf7c4bbe80def048caa9adc5",
            "max": 3929,
            "min": 0,
            "orientation": "horizontal",
            "style": "IPY_MODEL_3ed61e164423417b920d18a2a0c7ce07",
            "value": 3929
          }
        },
        "9a28182d64534cdcb85af8dd840a3bac": {
          "model_module": "@jupyter-widgets/controls",
          "model_name": "HTMLModel",
          "model_module_version": "1.5.0",
          "state": {
            "_dom_classes": [],
            "_model_module": "@jupyter-widgets/controls",
            "_model_module_version": "1.5.0",
            "_model_name": "HTMLModel",
            "_view_count": null,
            "_view_module": "@jupyter-widgets/controls",
            "_view_module_version": "1.5.0",
            "_view_name": "HTMLView",
            "description": "",
            "description_tooltip": null,
            "layout": "IPY_MODEL_613a7767ed1349c1a22f3ac6b783392d",
            "placeholder": "​",
            "style": "IPY_MODEL_0c8fc0536cb141ba9d2de738ab981e8f",
            "value": " 3.93k/3.93k [00:00&lt;00:00, 255kB/s]"
          }
        },
        "7d5943106b774dedac9113bcbe013be3": {
          "model_module": "@jupyter-widgets/base",
          "model_name": "LayoutModel",
          "model_module_version": "1.2.0",
          "state": {
            "_model_module": "@jupyter-widgets/base",
            "_model_module_version": "1.2.0",
            "_model_name": "LayoutModel",
            "_view_count": null,
            "_view_module": "@jupyter-widgets/base",
            "_view_module_version": "1.2.0",
            "_view_name": "LayoutView",
            "align_content": null,
            "align_items": null,
            "align_self": null,
            "border": null,
            "bottom": null,
            "display": null,
            "flex": null,
            "flex_flow": null,
            "grid_area": null,
            "grid_auto_columns": null,
            "grid_auto_flow": null,
            "grid_auto_rows": null,
            "grid_column": null,
            "grid_gap": null,
            "grid_row": null,
            "grid_template_areas": null,
            "grid_template_columns": null,
            "grid_template_rows": null,
            "height": null,
            "justify_content": null,
            "justify_items": null,
            "left": null,
            "margin": null,
            "max_height": null,
            "max_width": null,
            "min_height": null,
            "min_width": null,
            "object_fit": null,
            "object_position": null,
            "order": null,
            "overflow": null,
            "overflow_x": null,
            "overflow_y": null,
            "padding": null,
            "right": null,
            "top": null,
            "visibility": null,
            "width": null
          }
        },
        "9016d6f9532245f8b4936a2ea2b4a5c4": {
          "model_module": "@jupyter-widgets/base",
          "model_name": "LayoutModel",
          "model_module_version": "1.2.0",
          "state": {
            "_model_module": "@jupyter-widgets/base",
            "_model_module_version": "1.2.0",
            "_model_name": "LayoutModel",
            "_view_count": null,
            "_view_module": "@jupyter-widgets/base",
            "_view_module_version": "1.2.0",
            "_view_name": "LayoutView",
            "align_content": null,
            "align_items": null,
            "align_self": null,
            "border": null,
            "bottom": null,
            "display": null,
            "flex": null,
            "flex_flow": null,
            "grid_area": null,
            "grid_auto_columns": null,
            "grid_auto_flow": null,
            "grid_auto_rows": null,
            "grid_column": null,
            "grid_gap": null,
            "grid_row": null,
            "grid_template_areas": null,
            "grid_template_columns": null,
            "grid_template_rows": null,
            "height": null,
            "justify_content": null,
            "justify_items": null,
            "left": null,
            "margin": null,
            "max_height": null,
            "max_width": null,
            "min_height": null,
            "min_width": null,
            "object_fit": null,
            "object_position": null,
            "order": null,
            "overflow": null,
            "overflow_x": null,
            "overflow_y": null,
            "padding": null,
            "right": null,
            "top": null,
            "visibility": null,
            "width": null
          }
        },
        "64e608b6dc06490db851ec9a893126b9": {
          "model_module": "@jupyter-widgets/controls",
          "model_name": "DescriptionStyleModel",
          "model_module_version": "1.5.0",
          "state": {
            "_model_module": "@jupyter-widgets/controls",
            "_model_module_version": "1.5.0",
            "_model_name": "DescriptionStyleModel",
            "_view_count": null,
            "_view_module": "@jupyter-widgets/base",
            "_view_module_version": "1.2.0",
            "_view_name": "StyleView",
            "description_width": ""
          }
        },
        "a3b18d00cf7c4bbe80def048caa9adc5": {
          "model_module": "@jupyter-widgets/base",
          "model_name": "LayoutModel",
          "model_module_version": "1.2.0",
          "state": {
            "_model_module": "@jupyter-widgets/base",
            "_model_module_version": "1.2.0",
            "_model_name": "LayoutModel",
            "_view_count": null,
            "_view_module": "@jupyter-widgets/base",
            "_view_module_version": "1.2.0",
            "_view_name": "LayoutView",
            "align_content": null,
            "align_items": null,
            "align_self": null,
            "border": null,
            "bottom": null,
            "display": null,
            "flex": null,
            "flex_flow": null,
            "grid_area": null,
            "grid_auto_columns": null,
            "grid_auto_flow": null,
            "grid_auto_rows": null,
            "grid_column": null,
            "grid_gap": null,
            "grid_row": null,
            "grid_template_areas": null,
            "grid_template_columns": null,
            "grid_template_rows": null,
            "height": null,
            "justify_content": null,
            "justify_items": null,
            "left": null,
            "margin": null,
            "max_height": null,
            "max_width": null,
            "min_height": null,
            "min_width": null,
            "object_fit": null,
            "object_position": null,
            "order": null,
            "overflow": null,
            "overflow_x": null,
            "overflow_y": null,
            "padding": null,
            "right": null,
            "top": null,
            "visibility": null,
            "width": null
          }
        },
        "3ed61e164423417b920d18a2a0c7ce07": {
          "model_module": "@jupyter-widgets/controls",
          "model_name": "ProgressStyleModel",
          "model_module_version": "1.5.0",
          "state": {
            "_model_module": "@jupyter-widgets/controls",
            "_model_module_version": "1.5.0",
            "_model_name": "ProgressStyleModel",
            "_view_count": null,
            "_view_module": "@jupyter-widgets/base",
            "_view_module_version": "1.2.0",
            "_view_name": "StyleView",
            "bar_color": null,
            "description_width": ""
          }
        },
        "613a7767ed1349c1a22f3ac6b783392d": {
          "model_module": "@jupyter-widgets/base",
          "model_name": "LayoutModel",
          "model_module_version": "1.2.0",
          "state": {
            "_model_module": "@jupyter-widgets/base",
            "_model_module_version": "1.2.0",
            "_model_name": "LayoutModel",
            "_view_count": null,
            "_view_module": "@jupyter-widgets/base",
            "_view_module_version": "1.2.0",
            "_view_name": "LayoutView",
            "align_content": null,
            "align_items": null,
            "align_self": null,
            "border": null,
            "bottom": null,
            "display": null,
            "flex": null,
            "flex_flow": null,
            "grid_area": null,
            "grid_auto_columns": null,
            "grid_auto_flow": null,
            "grid_auto_rows": null,
            "grid_column": null,
            "grid_gap": null,
            "grid_row": null,
            "grid_template_areas": null,
            "grid_template_columns": null,
            "grid_template_rows": null,
            "height": null,
            "justify_content": null,
            "justify_items": null,
            "left": null,
            "margin": null,
            "max_height": null,
            "max_width": null,
            "min_height": null,
            "min_width": null,
            "object_fit": null,
            "object_position": null,
            "order": null,
            "overflow": null,
            "overflow_x": null,
            "overflow_y": null,
            "padding": null,
            "right": null,
            "top": null,
            "visibility": null,
            "width": null
          }
        },
        "0c8fc0536cb141ba9d2de738ab981e8f": {
          "model_module": "@jupyter-widgets/controls",
          "model_name": "DescriptionStyleModel",
          "model_module_version": "1.5.0",
          "state": {
            "_model_module": "@jupyter-widgets/controls",
            "_model_module_version": "1.5.0",
            "_model_name": "DescriptionStyleModel",
            "_view_count": null,
            "_view_module": "@jupyter-widgets/base",
            "_view_module_version": "1.2.0",
            "_view_name": "StyleView",
            "description_width": ""
          }
        },
        "e5dd2d7f36a44515b91210233a8ae84d": {
          "model_module": "@jupyter-widgets/controls",
          "model_name": "HBoxModel",
          "model_module_version": "1.5.0",
          "state": {
            "_dom_classes": [],
            "_model_module": "@jupyter-widgets/controls",
            "_model_module_version": "1.5.0",
            "_model_name": "HBoxModel",
            "_view_count": null,
            "_view_module": "@jupyter-widgets/controls",
            "_view_module_version": "1.5.0",
            "_view_name": "HBoxView",
            "box_style": "",
            "children": [
              "IPY_MODEL_664884bb096f47cdbc7d07801afaa692",
              "IPY_MODEL_216f8429114f45459bad1f43608e3251",
              "IPY_MODEL_8e70b38a2ebf469a8c769e86cecfdb6f"
            ],
            "layout": "IPY_MODEL_f718b20fa09d4a99b35fbe4c191483c1"
          }
        },
        "664884bb096f47cdbc7d07801afaa692": {
          "model_module": "@jupyter-widgets/controls",
          "model_name": "HTMLModel",
          "model_module_version": "1.5.0",
          "state": {
            "_dom_classes": [],
            "_model_module": "@jupyter-widgets/controls",
            "_model_module_version": "1.5.0",
            "_model_name": "HTMLModel",
            "_view_count": null,
            "_view_module": "@jupyter-widgets/controls",
            "_view_module_version": "1.5.0",
            "_view_name": "HTMLView",
            "description": "",
            "description_tooltip": null,
            "layout": "IPY_MODEL_d25dba7a7f3c42389b743d6a3d2eac23",
            "placeholder": "​",
            "style": "IPY_MODEL_1b71d13b17914d399ec8c005393e2949",
            "value": "Downloading readme: 100%"
          }
        },
        "216f8429114f45459bad1f43608e3251": {
          "model_module": "@jupyter-widgets/controls",
          "model_name": "FloatProgressModel",
          "model_module_version": "1.5.0",
          "state": {
            "_dom_classes": [],
            "_model_module": "@jupyter-widgets/controls",
            "_model_module_version": "1.5.0",
            "_model_name": "FloatProgressModel",
            "_view_count": null,
            "_view_module": "@jupyter-widgets/controls",
            "_view_module_version": "1.5.0",
            "_view_name": "ProgressView",
            "bar_style": "success",
            "description": "",
            "description_tooltip": null,
            "layout": "IPY_MODEL_d1f5c9e7594b41d9ae95293b6b58ef80",
            "max": 8256,
            "min": 0,
            "orientation": "horizontal",
            "style": "IPY_MODEL_130ab61b8a804fe4b94977e1545b9335",
            "value": 8256
          }
        },
        "8e70b38a2ebf469a8c769e86cecfdb6f": {
          "model_module": "@jupyter-widgets/controls",
          "model_name": "HTMLModel",
          "model_module_version": "1.5.0",
          "state": {
            "_dom_classes": [],
            "_model_module": "@jupyter-widgets/controls",
            "_model_module_version": "1.5.0",
            "_model_name": "HTMLModel",
            "_view_count": null,
            "_view_module": "@jupyter-widgets/controls",
            "_view_module_version": "1.5.0",
            "_view_name": "HTMLView",
            "description": "",
            "description_tooltip": null,
            "layout": "IPY_MODEL_82817b2f8fbc4dc08732005f3b6b1961",
            "placeholder": "​",
            "style": "IPY_MODEL_6cfb584a103b4a478b4c2046b28810b1",
            "value": " 8.26k/8.26k [00:00&lt;00:00, 460kB/s]"
          }
        },
        "f718b20fa09d4a99b35fbe4c191483c1": {
          "model_module": "@jupyter-widgets/base",
          "model_name": "LayoutModel",
          "model_module_version": "1.2.0",
          "state": {
            "_model_module": "@jupyter-widgets/base",
            "_model_module_version": "1.2.0",
            "_model_name": "LayoutModel",
            "_view_count": null,
            "_view_module": "@jupyter-widgets/base",
            "_view_module_version": "1.2.0",
            "_view_name": "LayoutView",
            "align_content": null,
            "align_items": null,
            "align_self": null,
            "border": null,
            "bottom": null,
            "display": null,
            "flex": null,
            "flex_flow": null,
            "grid_area": null,
            "grid_auto_columns": null,
            "grid_auto_flow": null,
            "grid_auto_rows": null,
            "grid_column": null,
            "grid_gap": null,
            "grid_row": null,
            "grid_template_areas": null,
            "grid_template_columns": null,
            "grid_template_rows": null,
            "height": null,
            "justify_content": null,
            "justify_items": null,
            "left": null,
            "margin": null,
            "max_height": null,
            "max_width": null,
            "min_height": null,
            "min_width": null,
            "object_fit": null,
            "object_position": null,
            "order": null,
            "overflow": null,
            "overflow_x": null,
            "overflow_y": null,
            "padding": null,
            "right": null,
            "top": null,
            "visibility": null,
            "width": null
          }
        },
        "d25dba7a7f3c42389b743d6a3d2eac23": {
          "model_module": "@jupyter-widgets/base",
          "model_name": "LayoutModel",
          "model_module_version": "1.2.0",
          "state": {
            "_model_module": "@jupyter-widgets/base",
            "_model_module_version": "1.2.0",
            "_model_name": "LayoutModel",
            "_view_count": null,
            "_view_module": "@jupyter-widgets/base",
            "_view_module_version": "1.2.0",
            "_view_name": "LayoutView",
            "align_content": null,
            "align_items": null,
            "align_self": null,
            "border": null,
            "bottom": null,
            "display": null,
            "flex": null,
            "flex_flow": null,
            "grid_area": null,
            "grid_auto_columns": null,
            "grid_auto_flow": null,
            "grid_auto_rows": null,
            "grid_column": null,
            "grid_gap": null,
            "grid_row": null,
            "grid_template_areas": null,
            "grid_template_columns": null,
            "grid_template_rows": null,
            "height": null,
            "justify_content": null,
            "justify_items": null,
            "left": null,
            "margin": null,
            "max_height": null,
            "max_width": null,
            "min_height": null,
            "min_width": null,
            "object_fit": null,
            "object_position": null,
            "order": null,
            "overflow": null,
            "overflow_x": null,
            "overflow_y": null,
            "padding": null,
            "right": null,
            "top": null,
            "visibility": null,
            "width": null
          }
        },
        "1b71d13b17914d399ec8c005393e2949": {
          "model_module": "@jupyter-widgets/controls",
          "model_name": "DescriptionStyleModel",
          "model_module_version": "1.5.0",
          "state": {
            "_model_module": "@jupyter-widgets/controls",
            "_model_module_version": "1.5.0",
            "_model_name": "DescriptionStyleModel",
            "_view_count": null,
            "_view_module": "@jupyter-widgets/base",
            "_view_module_version": "1.2.0",
            "_view_name": "StyleView",
            "description_width": ""
          }
        },
        "d1f5c9e7594b41d9ae95293b6b58ef80": {
          "model_module": "@jupyter-widgets/base",
          "model_name": "LayoutModel",
          "model_module_version": "1.2.0",
          "state": {
            "_model_module": "@jupyter-widgets/base",
            "_model_module_version": "1.2.0",
            "_model_name": "LayoutModel",
            "_view_count": null,
            "_view_module": "@jupyter-widgets/base",
            "_view_module_version": "1.2.0",
            "_view_name": "LayoutView",
            "align_content": null,
            "align_items": null,
            "align_self": null,
            "border": null,
            "bottom": null,
            "display": null,
            "flex": null,
            "flex_flow": null,
            "grid_area": null,
            "grid_auto_columns": null,
            "grid_auto_flow": null,
            "grid_auto_rows": null,
            "grid_column": null,
            "grid_gap": null,
            "grid_row": null,
            "grid_template_areas": null,
            "grid_template_columns": null,
            "grid_template_rows": null,
            "height": null,
            "justify_content": null,
            "justify_items": null,
            "left": null,
            "margin": null,
            "max_height": null,
            "max_width": null,
            "min_height": null,
            "min_width": null,
            "object_fit": null,
            "object_position": null,
            "order": null,
            "overflow": null,
            "overflow_x": null,
            "overflow_y": null,
            "padding": null,
            "right": null,
            "top": null,
            "visibility": null,
            "width": null
          }
        },
        "130ab61b8a804fe4b94977e1545b9335": {
          "model_module": "@jupyter-widgets/controls",
          "model_name": "ProgressStyleModel",
          "model_module_version": "1.5.0",
          "state": {
            "_model_module": "@jupyter-widgets/controls",
            "_model_module_version": "1.5.0",
            "_model_name": "ProgressStyleModel",
            "_view_count": null,
            "_view_module": "@jupyter-widgets/base",
            "_view_module_version": "1.2.0",
            "_view_name": "StyleView",
            "bar_color": null,
            "description_width": ""
          }
        },
        "82817b2f8fbc4dc08732005f3b6b1961": {
          "model_module": "@jupyter-widgets/base",
          "model_name": "LayoutModel",
          "model_module_version": "1.2.0",
          "state": {
            "_model_module": "@jupyter-widgets/base",
            "_model_module_version": "1.2.0",
            "_model_name": "LayoutModel",
            "_view_count": null,
            "_view_module": "@jupyter-widgets/base",
            "_view_module_version": "1.2.0",
            "_view_name": "LayoutView",
            "align_content": null,
            "align_items": null,
            "align_self": null,
            "border": null,
            "bottom": null,
            "display": null,
            "flex": null,
            "flex_flow": null,
            "grid_area": null,
            "grid_auto_columns": null,
            "grid_auto_flow": null,
            "grid_auto_rows": null,
            "grid_column": null,
            "grid_gap": null,
            "grid_row": null,
            "grid_template_areas": null,
            "grid_template_columns": null,
            "grid_template_rows": null,
            "height": null,
            "justify_content": null,
            "justify_items": null,
            "left": null,
            "margin": null,
            "max_height": null,
            "max_width": null,
            "min_height": null,
            "min_width": null,
            "object_fit": null,
            "object_position": null,
            "order": null,
            "overflow": null,
            "overflow_x": null,
            "overflow_y": null,
            "padding": null,
            "right": null,
            "top": null,
            "visibility": null,
            "width": null
          }
        },
        "6cfb584a103b4a478b4c2046b28810b1": {
          "model_module": "@jupyter-widgets/controls",
          "model_name": "DescriptionStyleModel",
          "model_module_version": "1.5.0",
          "state": {
            "_model_module": "@jupyter-widgets/controls",
            "_model_module_version": "1.5.0",
            "_model_name": "DescriptionStyleModel",
            "_view_count": null,
            "_view_module": "@jupyter-widgets/base",
            "_view_module_version": "1.2.0",
            "_view_name": "StyleView",
            "description_width": ""
          }
        },
        "c5402e2908c5466eb1f2925d380702f9": {
          "model_module": "@jupyter-widgets/controls",
          "model_name": "HBoxModel",
          "model_module_version": "1.5.0",
          "state": {
            "_dom_classes": [],
            "_model_module": "@jupyter-widgets/controls",
            "_model_module_version": "1.5.0",
            "_model_name": "HBoxModel",
            "_view_count": null,
            "_view_module": "@jupyter-widgets/controls",
            "_view_module_version": "1.5.0",
            "_view_name": "HBoxView",
            "box_style": "",
            "children": [
              "IPY_MODEL_11405a1c69db4e3f82a7d83139c95772",
              "IPY_MODEL_86c0062cca6f4b5e8c6a4fc31e119989",
              "IPY_MODEL_4ade1e11dc8b42b49f27d9d5a93cba98"
            ],
            "layout": "IPY_MODEL_71264b840f4940d0a2bc5d827ade4568"
          }
        },
        "11405a1c69db4e3f82a7d83139c95772": {
          "model_module": "@jupyter-widgets/controls",
          "model_name": "HTMLModel",
          "model_module_version": "1.5.0",
          "state": {
            "_dom_classes": [],
            "_model_module": "@jupyter-widgets/controls",
            "_model_module_version": "1.5.0",
            "_model_name": "HTMLModel",
            "_view_count": null,
            "_view_module": "@jupyter-widgets/controls",
            "_view_module_version": "1.5.0",
            "_view_name": "HTMLView",
            "description": "",
            "description_tooltip": null,
            "layout": "IPY_MODEL_1284fd6a6b5f44eeafc774813a23e552",
            "placeholder": "​",
            "style": "IPY_MODEL_f8e51b22acc0444bb5fc73260de5e033",
            "value": "Downloading data: 100%"
          }
        },
        "86c0062cca6f4b5e8c6a4fc31e119989": {
          "model_module": "@jupyter-widgets/controls",
          "model_name": "FloatProgressModel",
          "model_module_version": "1.5.0",
          "state": {
            "_dom_classes": [],
            "_model_module": "@jupyter-widgets/controls",
            "_model_module_version": "1.5.0",
            "_model_name": "FloatProgressModel",
            "_view_count": null,
            "_view_module": "@jupyter-widgets/controls",
            "_view_module_version": "1.5.0",
            "_view_name": "ProgressView",
            "bar_style": "success",
            "description": "",
            "description_tooltip": null,
            "layout": "IPY_MODEL_90ece94abcb74077bf85c5f80438b317",
            "max": 5793717324,
            "min": 0,
            "orientation": "horizontal",
            "style": "IPY_MODEL_cad09266f22e4f3e8de1b9fd8f94952c",
            "value": 5793717324
          }
        },
        "4ade1e11dc8b42b49f27d9d5a93cba98": {
          "model_module": "@jupyter-widgets/controls",
          "model_name": "HTMLModel",
          "model_module_version": "1.5.0",
          "state": {
            "_dom_classes": [],
            "_model_module": "@jupyter-widgets/controls",
            "_model_module_version": "1.5.0",
            "_model_name": "HTMLModel",
            "_view_count": null,
            "_view_module": "@jupyter-widgets/controls",
            "_view_module_version": "1.5.0",
            "_view_name": "HTMLView",
            "description": "",
            "description_tooltip": null,
            "layout": "IPY_MODEL_b98cf835617c4acda4bc2ebc753e8cb1",
            "placeholder": "​",
            "style": "IPY_MODEL_dc8043c35d4e42d7ac77dfd6c501c4f9",
            "value": " 5.79G/5.79G [01:36&lt;00:00, 70.7MB/s]"
          }
        },
        "71264b840f4940d0a2bc5d827ade4568": {
          "model_module": "@jupyter-widgets/base",
          "model_name": "LayoutModel",
          "model_module_version": "1.2.0",
          "state": {
            "_model_module": "@jupyter-widgets/base",
            "_model_module_version": "1.2.0",
            "_model_name": "LayoutModel",
            "_view_count": null,
            "_view_module": "@jupyter-widgets/base",
            "_view_module_version": "1.2.0",
            "_view_name": "LayoutView",
            "align_content": null,
            "align_items": null,
            "align_self": null,
            "border": null,
            "bottom": null,
            "display": null,
            "flex": null,
            "flex_flow": null,
            "grid_area": null,
            "grid_auto_columns": null,
            "grid_auto_flow": null,
            "grid_auto_rows": null,
            "grid_column": null,
            "grid_gap": null,
            "grid_row": null,
            "grid_template_areas": null,
            "grid_template_columns": null,
            "grid_template_rows": null,
            "height": null,
            "justify_content": null,
            "justify_items": null,
            "left": null,
            "margin": null,
            "max_height": null,
            "max_width": null,
            "min_height": null,
            "min_width": null,
            "object_fit": null,
            "object_position": null,
            "order": null,
            "overflow": null,
            "overflow_x": null,
            "overflow_y": null,
            "padding": null,
            "right": null,
            "top": null,
            "visibility": null,
            "width": null
          }
        },
        "1284fd6a6b5f44eeafc774813a23e552": {
          "model_module": "@jupyter-widgets/base",
          "model_name": "LayoutModel",
          "model_module_version": "1.2.0",
          "state": {
            "_model_module": "@jupyter-widgets/base",
            "_model_module_version": "1.2.0",
            "_model_name": "LayoutModel",
            "_view_count": null,
            "_view_module": "@jupyter-widgets/base",
            "_view_module_version": "1.2.0",
            "_view_name": "LayoutView",
            "align_content": null,
            "align_items": null,
            "align_self": null,
            "border": null,
            "bottom": null,
            "display": null,
            "flex": null,
            "flex_flow": null,
            "grid_area": null,
            "grid_auto_columns": null,
            "grid_auto_flow": null,
            "grid_auto_rows": null,
            "grid_column": null,
            "grid_gap": null,
            "grid_row": null,
            "grid_template_areas": null,
            "grid_template_columns": null,
            "grid_template_rows": null,
            "height": null,
            "justify_content": null,
            "justify_items": null,
            "left": null,
            "margin": null,
            "max_height": null,
            "max_width": null,
            "min_height": null,
            "min_width": null,
            "object_fit": null,
            "object_position": null,
            "order": null,
            "overflow": null,
            "overflow_x": null,
            "overflow_y": null,
            "padding": null,
            "right": null,
            "top": null,
            "visibility": null,
            "width": null
          }
        },
        "f8e51b22acc0444bb5fc73260de5e033": {
          "model_module": "@jupyter-widgets/controls",
          "model_name": "DescriptionStyleModel",
          "model_module_version": "1.5.0",
          "state": {
            "_model_module": "@jupyter-widgets/controls",
            "_model_module_version": "1.5.0",
            "_model_name": "DescriptionStyleModel",
            "_view_count": null,
            "_view_module": "@jupyter-widgets/base",
            "_view_module_version": "1.2.0",
            "_view_name": "StyleView",
            "description_width": ""
          }
        },
        "90ece94abcb74077bf85c5f80438b317": {
          "model_module": "@jupyter-widgets/base",
          "model_name": "LayoutModel",
          "model_module_version": "1.2.0",
          "state": {
            "_model_module": "@jupyter-widgets/base",
            "_model_module_version": "1.2.0",
            "_model_name": "LayoutModel",
            "_view_count": null,
            "_view_module": "@jupyter-widgets/base",
            "_view_module_version": "1.2.0",
            "_view_name": "LayoutView",
            "align_content": null,
            "align_items": null,
            "align_self": null,
            "border": null,
            "bottom": null,
            "display": null,
            "flex": null,
            "flex_flow": null,
            "grid_area": null,
            "grid_auto_columns": null,
            "grid_auto_flow": null,
            "grid_auto_rows": null,
            "grid_column": null,
            "grid_gap": null,
            "grid_row": null,
            "grid_template_areas": null,
            "grid_template_columns": null,
            "grid_template_rows": null,
            "height": null,
            "justify_content": null,
            "justify_items": null,
            "left": null,
            "margin": null,
            "max_height": null,
            "max_width": null,
            "min_height": null,
            "min_width": null,
            "object_fit": null,
            "object_position": null,
            "order": null,
            "overflow": null,
            "overflow_x": null,
            "overflow_y": null,
            "padding": null,
            "right": null,
            "top": null,
            "visibility": null,
            "width": null
          }
        },
        "cad09266f22e4f3e8de1b9fd8f94952c": {
          "model_module": "@jupyter-widgets/controls",
          "model_name": "ProgressStyleModel",
          "model_module_version": "1.5.0",
          "state": {
            "_model_module": "@jupyter-widgets/controls",
            "_model_module_version": "1.5.0",
            "_model_name": "ProgressStyleModel",
            "_view_count": null,
            "_view_module": "@jupyter-widgets/base",
            "_view_module_version": "1.2.0",
            "_view_name": "StyleView",
            "bar_color": null,
            "description_width": ""
          }
        },
        "b98cf835617c4acda4bc2ebc753e8cb1": {
          "model_module": "@jupyter-widgets/base",
          "model_name": "LayoutModel",
          "model_module_version": "1.2.0",
          "state": {
            "_model_module": "@jupyter-widgets/base",
            "_model_module_version": "1.2.0",
            "_model_name": "LayoutModel",
            "_view_count": null,
            "_view_module": "@jupyter-widgets/base",
            "_view_module_version": "1.2.0",
            "_view_name": "LayoutView",
            "align_content": null,
            "align_items": null,
            "align_self": null,
            "border": null,
            "bottom": null,
            "display": null,
            "flex": null,
            "flex_flow": null,
            "grid_area": null,
            "grid_auto_columns": null,
            "grid_auto_flow": null,
            "grid_auto_rows": null,
            "grid_column": null,
            "grid_gap": null,
            "grid_row": null,
            "grid_template_areas": null,
            "grid_template_columns": null,
            "grid_template_rows": null,
            "height": null,
            "justify_content": null,
            "justify_items": null,
            "left": null,
            "margin": null,
            "max_height": null,
            "max_width": null,
            "min_height": null,
            "min_width": null,
            "object_fit": null,
            "object_position": null,
            "order": null,
            "overflow": null,
            "overflow_x": null,
            "overflow_y": null,
            "padding": null,
            "right": null,
            "top": null,
            "visibility": null,
            "width": null
          }
        },
        "dc8043c35d4e42d7ac77dfd6c501c4f9": {
          "model_module": "@jupyter-widgets/controls",
          "model_name": "DescriptionStyleModel",
          "model_module_version": "1.5.0",
          "state": {
            "_model_module": "@jupyter-widgets/controls",
            "_model_module_version": "1.5.0",
            "_model_name": "DescriptionStyleModel",
            "_view_count": null,
            "_view_module": "@jupyter-widgets/base",
            "_view_module_version": "1.2.0",
            "_view_name": "StyleView",
            "description_width": ""
          }
        },
        "d475c3f74a25434ea3eeb230b65d7628": {
          "model_module": "@jupyter-widgets/controls",
          "model_name": "HBoxModel",
          "model_module_version": "1.5.0",
          "state": {
            "_dom_classes": [],
            "_model_module": "@jupyter-widgets/controls",
            "_model_module_version": "1.5.0",
            "_model_name": "HBoxModel",
            "_view_count": null,
            "_view_module": "@jupyter-widgets/controls",
            "_view_module_version": "1.5.0",
            "_view_name": "HBoxView",
            "box_style": "",
            "children": [
              "IPY_MODEL_5c24e5e0ad474f2cab92113c4dc6853f",
              "IPY_MODEL_66bc8424fe1e477a9ed7c0c3aecc42f5",
              "IPY_MODEL_a4a1c534b6714130bc82d5737de9415a"
            ],
            "layout": "IPY_MODEL_c6bd1c09540240ada6885d56e1bfbeb9"
          }
        },
        "5c24e5e0ad474f2cab92113c4dc6853f": {
          "model_module": "@jupyter-widgets/controls",
          "model_name": "HTMLModel",
          "model_module_version": "1.5.0",
          "state": {
            "_dom_classes": [],
            "_model_module": "@jupyter-widgets/controls",
            "_model_module_version": "1.5.0",
            "_model_name": "HTMLModel",
            "_view_count": null,
            "_view_module": "@jupyter-widgets/controls",
            "_view_module_version": "1.5.0",
            "_view_name": "HTMLView",
            "description": "",
            "description_tooltip": null,
            "layout": "IPY_MODEL_6eee02e873d244a3bc1a79829f1bb8d9",
            "placeholder": "​",
            "style": "IPY_MODEL_dd586cf8c6874488a5b3187b4b667f24",
            "value": "Generating train split: 100%"
          }
        },
        "66bc8424fe1e477a9ed7c0c3aecc42f5": {
          "model_module": "@jupyter-widgets/controls",
          "model_name": "FloatProgressModel",
          "model_module_version": "1.5.0",
          "state": {
            "_dom_classes": [],
            "_model_module": "@jupyter-widgets/controls",
            "_model_module_version": "1.5.0",
            "_model_name": "FloatProgressModel",
            "_view_count": null,
            "_view_module": "@jupyter-widgets/controls",
            "_view_module_version": "1.5.0",
            "_view_name": "ProgressView",
            "bar_style": "success",
            "description": "",
            "description_tooltip": null,
            "layout": "IPY_MODEL_827c1cb9f88b4c35b2f5da2637c38370",
            "max": 2174141,
            "min": 0,
            "orientation": "horizontal",
            "style": "IPY_MODEL_b2e66f7b3ea34b5bb709d456347cd9f3",
            "value": 2174141
          }
        },
        "a4a1c534b6714130bc82d5737de9415a": {
          "model_module": "@jupyter-widgets/controls",
          "model_name": "HTMLModel",
          "model_module_version": "1.5.0",
          "state": {
            "_dom_classes": [],
            "_model_module": "@jupyter-widgets/controls",
            "_model_module_version": "1.5.0",
            "_model_name": "HTMLModel",
            "_view_count": null,
            "_view_module": "@jupyter-widgets/controls",
            "_view_module_version": "1.5.0",
            "_view_name": "HTMLView",
            "description": "",
            "description_tooltip": null,
            "layout": "IPY_MODEL_6099404d026b404e89488db2767d17b8",
            "placeholder": "​",
            "style": "IPY_MODEL_c0eeb0e97dd447db95698d03d71df0cf",
            "value": " 2174141/2174141 [00:40&lt;00:00, 61329.40 examples/s]"
          }
        },
        "c6bd1c09540240ada6885d56e1bfbeb9": {
          "model_module": "@jupyter-widgets/base",
          "model_name": "LayoutModel",
          "model_module_version": "1.2.0",
          "state": {
            "_model_module": "@jupyter-widgets/base",
            "_model_module_version": "1.2.0",
            "_model_name": "LayoutModel",
            "_view_count": null,
            "_view_module": "@jupyter-widgets/base",
            "_view_module_version": "1.2.0",
            "_view_name": "LayoutView",
            "align_content": null,
            "align_items": null,
            "align_self": null,
            "border": null,
            "bottom": null,
            "display": null,
            "flex": null,
            "flex_flow": null,
            "grid_area": null,
            "grid_auto_columns": null,
            "grid_auto_flow": null,
            "grid_auto_rows": null,
            "grid_column": null,
            "grid_gap": null,
            "grid_row": null,
            "grid_template_areas": null,
            "grid_template_columns": null,
            "grid_template_rows": null,
            "height": null,
            "justify_content": null,
            "justify_items": null,
            "left": null,
            "margin": null,
            "max_height": null,
            "max_width": null,
            "min_height": null,
            "min_width": null,
            "object_fit": null,
            "object_position": null,
            "order": null,
            "overflow": null,
            "overflow_x": null,
            "overflow_y": null,
            "padding": null,
            "right": null,
            "top": null,
            "visibility": null,
            "width": null
          }
        },
        "6eee02e873d244a3bc1a79829f1bb8d9": {
          "model_module": "@jupyter-widgets/base",
          "model_name": "LayoutModel",
          "model_module_version": "1.2.0",
          "state": {
            "_model_module": "@jupyter-widgets/base",
            "_model_module_version": "1.2.0",
            "_model_name": "LayoutModel",
            "_view_count": null,
            "_view_module": "@jupyter-widgets/base",
            "_view_module_version": "1.2.0",
            "_view_name": "LayoutView",
            "align_content": null,
            "align_items": null,
            "align_self": null,
            "border": null,
            "bottom": null,
            "display": null,
            "flex": null,
            "flex_flow": null,
            "grid_area": null,
            "grid_auto_columns": null,
            "grid_auto_flow": null,
            "grid_auto_rows": null,
            "grid_column": null,
            "grid_gap": null,
            "grid_row": null,
            "grid_template_areas": null,
            "grid_template_columns": null,
            "grid_template_rows": null,
            "height": null,
            "justify_content": null,
            "justify_items": null,
            "left": null,
            "margin": null,
            "max_height": null,
            "max_width": null,
            "min_height": null,
            "min_width": null,
            "object_fit": null,
            "object_position": null,
            "order": null,
            "overflow": null,
            "overflow_x": null,
            "overflow_y": null,
            "padding": null,
            "right": null,
            "top": null,
            "visibility": null,
            "width": null
          }
        },
        "dd586cf8c6874488a5b3187b4b667f24": {
          "model_module": "@jupyter-widgets/controls",
          "model_name": "DescriptionStyleModel",
          "model_module_version": "1.5.0",
          "state": {
            "_model_module": "@jupyter-widgets/controls",
            "_model_module_version": "1.5.0",
            "_model_name": "DescriptionStyleModel",
            "_view_count": null,
            "_view_module": "@jupyter-widgets/base",
            "_view_module_version": "1.2.0",
            "_view_name": "StyleView",
            "description_width": ""
          }
        },
        "827c1cb9f88b4c35b2f5da2637c38370": {
          "model_module": "@jupyter-widgets/base",
          "model_name": "LayoutModel",
          "model_module_version": "1.2.0",
          "state": {
            "_model_module": "@jupyter-widgets/base",
            "_model_module_version": "1.2.0",
            "_model_name": "LayoutModel",
            "_view_count": null,
            "_view_module": "@jupyter-widgets/base",
            "_view_module_version": "1.2.0",
            "_view_name": "LayoutView",
            "align_content": null,
            "align_items": null,
            "align_self": null,
            "border": null,
            "bottom": null,
            "display": null,
            "flex": null,
            "flex_flow": null,
            "grid_area": null,
            "grid_auto_columns": null,
            "grid_auto_flow": null,
            "grid_auto_rows": null,
            "grid_column": null,
            "grid_gap": null,
            "grid_row": null,
            "grid_template_areas": null,
            "grid_template_columns": null,
            "grid_template_rows": null,
            "height": null,
            "justify_content": null,
            "justify_items": null,
            "left": null,
            "margin": null,
            "max_height": null,
            "max_width": null,
            "min_height": null,
            "min_width": null,
            "object_fit": null,
            "object_position": null,
            "order": null,
            "overflow": null,
            "overflow_x": null,
            "overflow_y": null,
            "padding": null,
            "right": null,
            "top": null,
            "visibility": null,
            "width": null
          }
        },
        "b2e66f7b3ea34b5bb709d456347cd9f3": {
          "model_module": "@jupyter-widgets/controls",
          "model_name": "ProgressStyleModel",
          "model_module_version": "1.5.0",
          "state": {
            "_model_module": "@jupyter-widgets/controls",
            "_model_module_version": "1.5.0",
            "_model_name": "ProgressStyleModel",
            "_view_count": null,
            "_view_module": "@jupyter-widgets/base",
            "_view_module_version": "1.2.0",
            "_view_name": "StyleView",
            "bar_color": null,
            "description_width": ""
          }
        },
        "6099404d026b404e89488db2767d17b8": {
          "model_module": "@jupyter-widgets/base",
          "model_name": "LayoutModel",
          "model_module_version": "1.2.0",
          "state": {
            "_model_module": "@jupyter-widgets/base",
            "_model_module_version": "1.2.0",
            "_model_name": "LayoutModel",
            "_view_count": null,
            "_view_module": "@jupyter-widgets/base",
            "_view_module_version": "1.2.0",
            "_view_name": "LayoutView",
            "align_content": null,
            "align_items": null,
            "align_self": null,
            "border": null,
            "bottom": null,
            "display": null,
            "flex": null,
            "flex_flow": null,
            "grid_area": null,
            "grid_auto_columns": null,
            "grid_auto_flow": null,
            "grid_auto_rows": null,
            "grid_column": null,
            "grid_gap": null,
            "grid_row": null,
            "grid_template_areas": null,
            "grid_template_columns": null,
            "grid_template_rows": null,
            "height": null,
            "justify_content": null,
            "justify_items": null,
            "left": null,
            "margin": null,
            "max_height": null,
            "max_width": null,
            "min_height": null,
            "min_width": null,
            "object_fit": null,
            "object_position": null,
            "order": null,
            "overflow": null,
            "overflow_x": null,
            "overflow_y": null,
            "padding": null,
            "right": null,
            "top": null,
            "visibility": null,
            "width": null
          }
        },
        "c0eeb0e97dd447db95698d03d71df0cf": {
          "model_module": "@jupyter-widgets/controls",
          "model_name": "DescriptionStyleModel",
          "model_module_version": "1.5.0",
          "state": {
            "_model_module": "@jupyter-widgets/controls",
            "_model_module_version": "1.5.0",
            "_model_name": "DescriptionStyleModel",
            "_view_count": null,
            "_view_module": "@jupyter-widgets/base",
            "_view_module_version": "1.2.0",
            "_view_name": "StyleView",
            "description_width": ""
          }
        }
      }
    }
  },
  "nbformat": 4,
  "nbformat_minor": 5
}